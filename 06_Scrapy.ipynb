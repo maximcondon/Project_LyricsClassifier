{
 "cells": [
  {
   "cell_type": "markdown",
   "metadata": {},
   "source": [
    "# Scrapy\n",
    "\n",
    "**Scrapy is a powerful webscraping library that scrapes entire websites faster and with less code.**\n",
    "\n"
   ]
  },
  {
   "cell_type": "markdown",
   "metadata": {},
   "source": [
    "Scrapy is the library, and spider is the class that we need to instantiate.\n",
    "\n",
    "Called a spider as it can crawl around into tiny spaces!\n",
    "\n",
    "Needs 4 things to work:\n",
    "\n",
    "1. Needs a name e.g. name = 'crypto'\n",
    "\n",
    "2. Needs start pages, starting urls e.g. start_urls= ['https://www.coingecko.com/en']\n",
    "\n",
    "3. The allowed domain - the website domain it has to stay on so it doesn't follow hyperlinks! e.g. allowed_domains = ['coingecko.com']\n",
    "\n",
    "4. What data to get (& what to do with it!)\n",
    "\n",
    "**The function always has the same form:**\n",
    "\n",
    "`def parse(self, response):`\n",
    "    \n",
    "Give it instructions --> finding and processing information\n",
    "\n",
    "**Xpath** - always has an xpath - it is a querying language! Guides your Spider to particular HTML code. Takes the form respon.xpath('//....')\n",
    "\n",
    "\n",
    "- / - would start at body and just inside of that find something called td\n",
    "\n",
    "- // - would search all the way down to our td\n",
    "\n",
    "Prices and coins at this point are lists, they are subsequently zipped together to form a dictionary!\n",
    "\n",
    "Yield is like return but it waits until everything is finished before it returns, it produces a generator! **WE ALWAYS USE YIELD, not return**!\n",
    "\n",
    "Puts the information into a queue.\n",
    "\n",
    "Depth limit puts a cap on how many times it clicks on next for the next page!"
   ]
  },
  {
   "cell_type": "markdown",
   "metadata": {},
   "source": [
    "### Code example:"
   ]
  },
  {
   "cell_type": "code",
   "execution_count": null,
   "metadata": {},
   "outputs": [],
   "source": [
    "import scrapy\n",
    "\n",
    "from scrapy.http import Request\n",
    "\n",
    "\n",
    "class CryptoSpider(scrapy.Spider):\n",
    "    \n",
    "    name = 'crypto'\n",
    "    allowed_domains = ['coingecko.com']\n",
    "    start_urls = ['https://www.coingecko.com/en/']\n",
    "\n",
    "    custom_settings = {\n",
    "        'DEPTH_LIMIT': 10,\n",
    "    }\n",
    "\n",
    "    def parse(self, response):\n",
    "\n",
    "        prices = response.xpath('//td[@class=\"td-price price text-right\"]//a/span[@class=\"no-wrap\"]/text()').getall()\n",
    "        coins = response.xpath('//td[@class=\"py-0 coin-name\"]/@data-sort').getall()\n",
    "\n",
    "        if len(coins) == len(prices):\n",
    "            for c, p in zip(coins, prices):\n",
    "                item = {'coin': c, 'price': p}\n",
    "                print(item)      #just to show us in the terminal\n",
    "                yield item\n",
    "\n",
    "        next_url = response.xpath('//a[@rel=\"next\"]/@href').get()\n",
    "        next_url = response.urljoin(next_url)\n",
    "        print(next_url)\n",
    "        yield Request(next_url)\n"
   ]
  },
  {
   "cell_type": "code",
   "execution_count": null,
   "metadata": {},
   "outputs": [],
   "source": []
  }
 ],
 "metadata": {
  "kernelspec": {
   "display_name": "Python 3",
   "language": "python",
   "name": "python3"
  },
  "language_info": {
   "codemirror_mode": {
    "name": "ipython",
    "version": 3
   },
   "file_extension": ".py",
   "mimetype": "text/x-python",
   "name": "python",
   "nbconvert_exporter": "python",
   "pygments_lexer": "ipython3",
   "version": "3.7.1"
  }
 },
 "nbformat": 4,
 "nbformat_minor": 2
}
