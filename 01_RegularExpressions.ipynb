{
 "cells": [
  {
   "cell_type": "markdown",
   "metadata": {},
   "source": [
    "# Regular Expressions\n",
    "\n",
    "https://regex101.com/ - simple workspace with explanations\n",
    "\n",
    "https://regexone.com/ - lessons and exercises introducing special characters \n",
    "\n",
    "file:///Users/maximcondon/Documents/datascience/_downloads/regex_cheatsheet.pdf - cheatsheet\n",
    "\n",
    "Used in other languages, used in the command line with Grep, some text editors have the same function...\n",
    "\n",
    "**Regular Expressions are a powerful language for matching patterns in text. In this exercise, we will use an online tool that helps exploring a pattern.**"
   ]
  },
  {
   "cell_type": "markdown",
   "metadata": {},
   "source": [
    "## Regular Expressions have many special characters\n",
    "\n",
    "e.g. cohort names\n",
    "- polynomial peppermint\n",
    "- one-hot chilli peppers\n",
    "- bayesian basil\n",
    "- artificial neural nutmeg\n",
    "- tensor thyme\n",
    "- linear lavendar\n",
    "\n",
    "**dot** : '....' is a shortcut for any character that can be in that place! '.' matches any character (except for line terminators)\n",
    "\n",
    "- 'c....' captures 'chill' as well as 'cial_' with the whitespace\n",
    "\n",
    "- '..y..' captures 'Bayes', as well as 'Thyme' and 'olyno'\n",
    "\n",
    "**c[a-z]+** - c matches the character c literally (case sensitive), \n",
    "- [a-z]+ captures all the letters after it until the space as it doesn't match\n",
    "\n",
    "**+ Quantifier** — Matches between one and unlimited times, as many times as possible, giving back as needed (greedy)\n",
    "\n",
    "**[a-z]** - a single character in the range between a (index 97) and z (index 122) (case sensitive)\n",
    "\n",
    "** - asterisk makes the letter optional! eg ba[a-z]+ makes b obligatory so only selects bayesian and basil, but b*a[a-z]+ also selects 'ar' 'avender', 'artificial', and 'al' twice!\n",
    "\n",
    "**^** - negates characters ie [^aeiou] would unselect all vowels! \n",
    "- Needs to be inside the square brackets for negation - if it was outside it goes at the front and it 'asserts position at the start of the line'\n",
    "\n",
    "**c[ainumo]+** - ainumo matches a single character in the list ainumo (case sensitive - order inside square bracket does not matter)\n",
    "- so c[ainumo] captures 'ci' and the + captures extra 'ainumo' until there is another one so it captures 'cia' because it won't capture the 'L'\n",
    "\n",
    "**\\w** - matches any word or character (equal to [a-z A-Z 0-9_]), excludes special characters\n",
    "\n",
    "**{2,5} Quantifier** — Matches between 2 and 5 times, as many times as possible, giving back as needed (greedy) - i.e. selects between 2 and 5 characters ie lavender split into 'laven' and 'der'\n",
    "- {x,y} is count\n",
    "\n",
    "\n",
    "**\\w{2,5}** - matches any word character (equal to [a-zA-Z0-9_]) between two and 5 characters long\n",
    "\n",
    "**m** - matches the character m literally (case sensitive)\n",
    "\n",
    "**\\w{2,5}m\\w{2,5}** - therefore this matches 'olynomial', 'eppermint' and 'nutmeg'\n",
    "\n",
    "#### Global pattern flags\n",
    "\n",
    "- **g modifier**: global. All matches (don't return after first match)\n",
    "- **m modifier**: multi line. Causes ^ and $ to match the begin/end of each line (not only begin/end of string)\n",
    "\n",
    "**\\s(\\w+)\\s**:\n",
    "\n",
    "**\\s** - matches any whitespace character (equal to [\\r\\n\\t\\f\\v ])\n",
    "\n",
    "**(\\w+)** - 1st Capturing Group - captures all characters (equal to [a-zA-Z0-9_]) after the space\n",
    "\n",
    "**\\d** - \\d matches a single digit (equal to [0-9]) - adding a + selects multiples of digits"
   ]
  },
  {
   "cell_type": "markdown",
   "metadata": {},
   "source": [
    "### Grouping\n",
    "\n",
    "**(X)** - \\1, \\2 backreferences the groups! Matches the same text as most recently captured by the 1st capturing group. See king-kong example below\n",
    "\n",
    "**\\1** - refers to the first group - round brackets define groups - e.g. (\\w+) - i.e. k, p, f, h\n",
    "\n",
    "**\\2** - refers to the second group - (\\w+) i.e. ng, ng, p, p\n",
    "\n",
    "So in the example:\n",
    "\n",
    "- king kong\n",
    "- ping-pong\n",
    "- flip-flop\n",
    "- hip-hop\n",
    "\n",
    "**^(\\w+)i(\\w+)[- ]\\1o\\2** - this works to capture the above\n",
    "\n",
    "**([a-z]+)i([a-z]+)[- ]\\1o\\2** - as deos this!"
   ]
  },
  {
   "cell_type": "markdown",
   "metadata": {},
   "source": [
    "## Regular Expressions in Python\n",
    "\n",
    "The Python module `re` allows you to use Regular Expressions in a Python program.\n",
    "\n",
    "Execute the instructions one by one and discuss what they do."
   ]
  },
  {
   "cell_type": "code",
   "execution_count": 1,
   "metadata": {},
   "outputs": [],
   "source": [
    "import re\n",
    "\n",
    "text = '''thyme coriander rosemary cinnamon\n",
    "pepper tarragon basil salvia cumin'''\n",
    "\n",
    "pattern = \"c\\w+\""
   ]
  },
  {
   "cell_type": "code",
   "execution_count": 2,
   "metadata": {},
   "outputs": [
    {
     "data": {
      "text/plain": [
       "['coriander', 'cinnamon', 'cumin']"
      ]
     },
     "execution_count": 2,
     "metadata": {},
     "output_type": "execute_result"
    }
   ],
   "source": [
    "# find all occurences\n",
    "re.findall(pattern, text)"
   ]
  },
  {
   "cell_type": "code",
   "execution_count": 3,
   "metadata": {},
   "outputs": [
    {
     "data": {
      "text/plain": [
       "['coriander', 'cinnamon', 'cumin']"
      ]
     },
     "execution_count": 3,
     "metadata": {},
     "output_type": "execute_result"
    }
   ],
   "source": [
    "# dot matches newline\n",
    "re.findall(pattern, text, re.DOTALL)"
   ]
  },
  {
   "cell_type": "code",
   "execution_count": 4,
   "metadata": {},
   "outputs": [
    {
     "data": {
      "text/plain": [
       "(6, 15)"
      ]
     },
     "execution_count": 4,
     "metadata": {},
     "output_type": "execute_result"
    }
   ],
   "source": [
    "# find first occurence or None\n",
    "s = re.search(pattern, text)\n",
    "s.span()"
   ]
  },
  {
   "cell_type": "code",
   "execution_count": 5,
   "metadata": {},
   "outputs": [
    {
     "data": {
      "text/plain": [
       "'thyme SPICE rosemary SPICE\\npepper tarragon basil salvia SPICE'"
      ]
     },
     "execution_count": 5,
     "metadata": {},
     "output_type": "execute_result"
    }
   ],
   "source": [
    "# replace\n",
    "re.sub(pattern, \"SPICE\", text)"
   ]
  },
  {
   "cell_type": "code",
   "execution_count": 6,
   "metadata": {},
   "outputs": [
    {
     "data": {
      "text/plain": [
       "['coriander', 'cinnamon', 'cumin']"
      ]
     },
     "execution_count": 6,
     "metadata": {},
     "output_type": "execute_result"
    }
   ],
   "source": [
    "# ignore upper/lower case\n",
    "re.findall(pattern, text, re.IGNORECASE)"
   ]
  },
  {
   "cell_type": "markdown",
   "metadata": {},
   "source": [
    "### Key Commands\n",
    "\n",
    "| command | description |\n",
    "|---------|-------------|   \n",
    "| re.findall( ) | returns a list of matching strings |\n",
    "| re.search( ) | returns a match object for the first |\n",
    "| re.sub( ) | substitute pattern by a string |\n",
    "| re.match( ) | match the entire string |\n",
    "| re.compile( ) | pre-compile pattern, so it is faster |\n",
    "| re.DOTALL | switch for matching newlines |\n",
    "| re.IGNORECASE | switch for matching upper/lowercase |"
   ]
  },
  {
   "cell_type": "markdown",
   "metadata": {},
   "source": [
    "## RegEx Exercises \n",
    "regexone.com\n",
    "\n",
    "### Lesson 1 - Introduction, ABCs, and 123s\n",
    "\n",
    "Regular expressions are extremely useful in extracting information from text such as code, log files, spreadsheets, or even documents. And while there is a lot of theory behind formal languages, the following lessons and examples will explore the more practical uses of regular expressions so that you can use them as quickly as possible.\n",
    "\n",
    "The first thing to recognize when using regular expressions is that everything is essentially a character, and we are writing patterns to match a specific sequence of characters (also known as a string). Most patterns use normal ASCII, which includes letters, digits, punctuation and other symbols on your keyboard like %#$@!, but unicode characters can also be used to match any type of international text.\n",
    "\n",
    "Below are a couple lines of text, notice how the text changes to highlight the matching characters on each line as you type in the input field below. To continue to the next lesson, you will need to use the new syntax and concept introduced in each lesson to write a pattern that matches all the lines provided.\n",
    "\n",
    "Go ahead and try writing a pattern that matches all three rows, it may be as simple as the common letters on each line.\n",
    "\n",
    "- abc, [abc]+ and [abc]* all work on the examples abc, abcde and abcdefg!\n",
    "\n",
    "### \\d\n",
    "\n",
    "Characters include normal letters, but digits as well. In fact, numbers 0-9 are also just characters and if you look at an ASCII table, they are listed sequentially.\n",
    "\n",
    "Over the various lessons, you will be introduced to a number of special metacharacters used in regular expressions that can be used to match a specific type of character. In this case, the character **\\d** can be used in place of any digit from 0 to 9. The preceding slash distinguishes it from the simple d character and indicates that it is a metacharacter.\n",
    "\n",
    "Below are a few more lines of text containing digits. Try writing a pattern that matches all the digits in the strings below, and notice how your pattern matches anywhere within the string, not just starting at the first character.\n",
    "\n",
    "- can use 123 or \\d+ or \\d\\d\\d!"
   ]
  },
  {
   "cell_type": "markdown",
   "metadata": {},
   "source": [
    "### Lesson 2 - The Dot\n",
    "\n",
    "# .\n",
    "\n",
    "In some card games, the Joker is a wildcard and can represent any card in the deck. With regular expressions, you are often matching pieces of text that you don't know the exact contents of, other than the fact that they share a common pattern or structure (eg. phone numbers or zip codes).\n",
    "\n",
    "Similarly, there is the concept of a wildcard, which is represented by the . (dot) metacharacter, and can match any single character (letter, digit, whitespace, everything). You may notice that this actually overrides the matching of the period character, so in order to specifically match a period, you need to escape the dot by using a slash \\ . accordingly.\n",
    "\n",
    "Below are a couple strings with varying characters but the same length. Try to write a single pattern that can match the first three strings, but not the last (to be skipped). You may find that you will have to escape the dot metacharacter to match the period in some of the lines.\n",
    "\n",
    "- \\ . or ...\\ . selects the dot in the first three egs cat., 896., ?=+. but there isn't one in abc1 so it skips it"
   ]
  },
  {
   "cell_type": "markdown",
   "metadata": {},
   "source": [
    "### Lesson 3 - Matching specific characters\n",
    "\n",
    "### [abc] \n",
    "\n",
    "The dot metacharacter from the last lesson is pretty powerful, but sometimes too powerful. If we are matching phone numbers for example, we don't want to validate the letters \"(abc) def-ghij\" as being a valid number!\n",
    "\n",
    "There is a method for matching specific characters using regular expressions, by defining them inside square brackets. For example, the pattern [abc] will only match a single a, b, or c letter and nothing else.\n",
    "\n",
    "Below are a couple lines, where we only want to match the first three strings, but not the last three strings. Notice how we can't avoid matching the last three strings if we use the dot, but have to specifically define what letters to match using the notation above.\n",
    "\n",
    "- [cmf]an or [cmf][a-z]+ or [cmf]\\w+ or [cmf]\\w* matches can, man, fan but not dan, ran, or pan!\n",
    "\n",
    "- Can also use [^drp]an to exclude d, r, and p!\n",
    "\n",
    "### Lesson 4 - Excluding specific characters\n",
    "\n",
    "### [^edf]\n",
    "\n",
    "In some cases, we might know that there are specific characters that we don't want to match too, for example, we might only want to match phone numbers that are not from the area code 650.\n",
    "\n",
    "To represent this, we use a similar expression that excludes specific characters using the square brackets and the ^ (hat). For example, the pattern [^abc] will match any single character except for the letters a, b, or c.\n",
    "\n",
    "With the strings below, try writing a pattern that matches only the live animals (hog, dog, but not bog). Notice how most patterns of this type can also be written using the technique from the last lesson as they are really two sides of the same coin. By having both choices, you can decide which one is easier to write and understand when composing your own patterns.\n",
    "\n",
    "- [^b]og or [hd]og will match hog and dog but skip bog! Note [hd]og is a more restrictive expression because it limits the strings it can match!"
   ]
  },
  {
   "cell_type": "markdown",
   "metadata": {},
   "source": [
    "### Lesson 5: Character ranges\n",
    "\n",
    "### [a-z], \\w, [^n-p], [0-6]\n",
    "\n",
    "We just learned how to create a pattern that matches or excludes specific characters -- but what if we want to match a character that can be in a sequential range characters? Do we have no choice but to list them all out?\n",
    "\n",
    "Luckily, when using the square bracket notation, there is a shorthand for matching a character in list of sequential characters by using the dash to indicate a character range. For example, the pattern [0-6] will only match any single digit character from zero to six, and nothing else. And likewise, [^n-p] will only match any single character except for letters n to p.\n",
    "\n",
    "Multiple character ranges can also be used in the same set of brackets, along with individual characters. An example of this is the alphanumeric \\w metacharacter which is equivalent to the character range [A-Za-z0-9_] and often used to match characters in English text.\n",
    "\n",
    "In the exercise below, notice how all the match and skip lines have a pattern, and use the bracket notation to match or skip each character from each line. Be aware that patterns are case sensitive and a-z differs from A-Z in terms of the characters it matches (lower vs upper case).\n",
    "\n",
    "- [A-C]\\w[a-c] or [A-C][n-p][a-c] or [A-C][^a-c][a-c] match Ana, Bob, and Cpc, but not aax, bby, and ccz.\n",
    "\n",
    "### Lesson 6 - Catching some zzz's\n",
    "\n",
    "### z{3} , z{1,3} , [wxy]{5} , .{2,6}\n",
    "\n",
    "Note: Some parts of the repetition syntax below isn't supported in all regular expression implementations.\n",
    "\n",
    "We've so far learned how to specify the range of characters we want to match, but how about the number of repetitions of characters that we want to match? One way that we can do this is to explicitly spell out exactly how many characters we want, **eg. \\d\\d\\d which would match exactly three digits.**\n",
    "\n",
    "A more convenient way is to specify how many repetitions of each character we want using the curly braces notation. For example, a{3} will match the a character exactly three times. Certain regular expression engines will even allow you to specify a range for this repetition such that a{1,3} will match the a character no more than 3 times, but no less than once for example.\n",
    "\n",
    "This quantifier can be used with any character, or special metacharacters, for example w{3} (three w's), [wxy]{5} (five characters, each of which can be a w, x, or y) and .{2,6} (between two and six of any character).\n",
    "\n",
    "In the lines below, the last string with only one z isn't what we would consider a proper spelling of the slang \"wazzup?\". Try writing a pattern that matches only the first two spellings by using the curly brace notation above.\n",
    "\n",
    "- waz{2,5}up will match all strings with between 2 and 5 'z', ignoring wazup!"
   ]
  },
  {
   "cell_type": "markdown",
   "metadata": {},
   "source": [
    "### Lesson 7 - Mr. Kleene, Mr. Kleene\n",
    "\n",
    "### * and +\n",
    "\n",
    "A powerful concept in regular expressions is the ability to match an arbitrary number of characters. For example, imagine that you wrote a form that has a donation field that takes a numerical value in dollars. A wealthy user may drop by and want to donate $25,000, while a normal user may want to donate §25.\n",
    "\n",
    "One way to express such a pattern would be to use what is known as the **Kleene Star** and the **Kleene Plus**, which essentially represents either **0 or more or 1 or more** of the character that it follows (it always follows a character or group). For example, to match the donations above, we can use the pattern \\d* to match any number of digits, but a tighter regular expression would be **\\d+** which ensures that the input string has at least one digit.\n",
    "\n",
    "These **quantifiers** can be used with any character or special metacharacters, for example **a+** (one or more a's), **[abc]+** (one or more of any a, b, or c character) and .* (zero or more of any character).\n",
    "\n",
    "Below are a few simple strings that you can match using both the star and plus metacharacters.\n",
    "\n",
    "- a*[bc]+ ie a is 0 or more, bs or/and cs guaranteed works to match 'aaaabcc', 'aabbbbc', and 'aacc', but skips 'a'\n",
    "- Alternatively, can use aa+b*c+, or an even more restrictive expression would be a{2,4}b{0,4}c{1,2} which puts both an upper and lower bound on the number of each of the characters.\n"
   ]
  },
  {
   "cell_type": "markdown",
   "metadata": {},
   "source": [
    "### Lesson 8 - Characters optional\n",
    "\n",
    "### ? \n",
    "As you saw in the previous lesson, the Kleene star and plus allow us to match repeated characters in a line.\n",
    "\n",
    "Another quantifier that is really common when matching and extracting text is the ? (question mark) metacharacter which denotes optionality. This metacharacter allows you to match either zero or one of the preceding character or group. For example, the pattern ab?c will match either the strings \"abc\" or \"ac\" because the b is considered optional.\n",
    "\n",
    "Similar to the dot metacharacter, the question mark is a special character and you will have to escape it using a slash \\? to match a plain question mark character in a string.\n",
    "\n",
    "In the strings below, notice how the the plurality of the word \"file\" depends on the number of files found. Try writing a pattern that uses the optionality metacharacter to match only the lines where one or more files were found.\n",
    "- **\\d+\\sfiles?\\sfound\\?** works, as does **\\d+ files? found\\?** on matching '1 file found?', '2 files found?', '24 files found?' but not 'no files found'. Note that the first question mark applies to the preceding 's' character (for plurality), and the actual question mark at the end must be escaped to match the text.\n",
    "\n"
   ]
  },
  {
   "cell_type": "markdown",
   "metadata": {},
   "source": [
    "### Lesson 9 - All this whitespace\n",
    "\n",
    "### \\s, \\t, \\n\n",
    "When dealing with real-world input, such as log files and even user input, it's difficult not to encounter whitespace. We use it to format pieces of information to make it easier to read and scan visually, and a single space can put a wrench into the simplest regular expression.\n",
    "\n",
    "The most common forms of whitespace you will use with regular expressions are the space (␣), the tab (\\t), the new line (\\n) and the carriage return (\\r) (useful in Windows environments), and these special characters match each of their respective whitespaces. In addition, a whitespace special character \\s will match any of the specific whitespaces above and is extremely useful when dealing with raw input text.\n",
    "\n",
    "In the strings below, you'll find that the content of each line is indented by some whitespace from the index of the line (the number is a part of the text to match). Try writing a pattern that can match each line regardless of how much whitespace is between the number and the content. Notice that the whitespace characters are just like any other character and the special metacharacters like the star and the plus can be used as well.\n",
    "\n",
    "- \\d\\.\\s+abc is used to match the number, the actual period, one or more whitespace characters and then the text!\n",
    "\n",
    "### Lesson 10 - Starting and Ending\n",
    "\n",
    "So far, we've been writing regular expressions that partially match pieces across all the text. Sometimes this isn't desirable, imagine for example we wanted to match the word \"success\" in a log file. We certainly don't want that pattern to match a line that says \"Error: unsuccessful operation\"! That is why it is often best practice to write as specific regular expressions as possible to ensure that we don't get false positives when matching against real world text.\n",
    "\n",
    "One way to tighten our patterns is to define a pattern that describes both the start and the end of the line using the special ^ (hat) and $ (dollar sign) metacharacters. In the example above, we can use the pattern ^success to match only a line that begins with the word \"success\", but not the line \"Error: unsuccessful operation\". And if you combine both the hat and the dollar sign, you create a pattern that matches the whole line completely at the beginning and end.\n",
    "\n",
    "Note that this is different than the hat used inside a set of bracket [^...] for excluding characters, which can be confusing when reading regular expressions.\n",
    "\n",
    "Try to match each of the strings below using these new special characters."
   ]
  },
  {
   "cell_type": "markdown",
   "metadata": {},
   "source": []
  }
 ],
 "metadata": {
  "kernelspec": {
   "display_name": "Python 3",
   "language": "python",
   "name": "python3"
  },
  "language_info": {
   "codemirror_mode": {
    "name": "ipython",
    "version": 3
   },
   "file_extension": ".py",
   "mimetype": "text/x-python",
   "name": "python",
   "nbconvert_exporter": "python",
   "pygments_lexer": "ipython3",
   "version": "3.7.1"
  }
 },
 "nbformat": 4,
 "nbformat_minor": 2
}
