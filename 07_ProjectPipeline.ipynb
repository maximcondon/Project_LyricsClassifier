{
 "cells": [
  {
   "cell_type": "markdown",
   "metadata": {},
   "source": [
    "# Goal of this week's project\n",
    "\n",
    "- Give a model a new piece of text it hasn't seen before, and it will give you the probability of that text belonging to a certain artist\n",
    "\n",
    "## This week's project pipeline\n",
    "\n",
    "**1. Use Requests and either RegEx or Beautiful Soup to scrape lyrics from the internet.**\n",
    "\n",
    "    - One long column/series that contains all the text of a song (X)\n",
    "    - One long column/series OF THE SAME LENGTH containing the artists (i.e. the labels) y \n",
    "    \n",
    "**2. Make sure that every artists has approximately (to the best of your ability...) the same number of songs**"
   ]
  },
  {
   "cell_type": "markdown",
   "metadata": {},
   "source": [
    "**3. Clean your data - RegEx, remove punctuation, lemmatisation, drop stopwords - can use Spacy**\n",
    "\n",
    "**4. Vectorise your X data (i.e. Apply Count Vectorizer, TF-IDF, etc...)**\n",
    "- Sklearn doesn't take strings! It needs numbers!\n",
    "- It standardises the length / shape of all your documents!\n",
    "    - vec = cv.fit_transform(Xtrain)\n",
    "    - vec2 = tf.fit_transform(vec)\n",
    "\n",
    "**5. Fit a model on X, y!**\n",
    "- Naive Bayes Theorem / Probability Theory \n",
    "- m.fit(X,y)\n",
    "\n",
    "**6. Use your fitted / trained model to predict new text!**\n",
    "- vec = cv.transform(Xnew/Xtest)\n",
    "- vec2 = tf.transform(vec)"
   ]
  },
  {
   "cell_type": "markdown",
   "metadata": {},
   "source": [
    "This is pretty much from the beginning of step 3:"
   ]
  },
  {
   "cell_type": "code",
   "execution_count": 1,
   "metadata": {},
   "outputs": [],
   "source": [
    "artist1 = 'Nirvana'\n",
    "artist2 = 'Madonna'\n",
    "\n",
    "text_corpus = ['come as you are as you were as I want you to be',\n",
    "              'polly wants a cracker think i should get off her first',\n",
    "              \"im so happy because today found my friends they're in my head\",\n",
    "              'we can escape to a higher plane',\n",
    "              'im so lonely i shaved my head and im not sad i dont care im so horny',\n",
    "              'like a virgin touched for the very first time',\n",
    "              'tropical the island breeze all of nature wild and free',\n",
    "              'when you call me name its like a little prayer down on my knees i want to take you there',\n",
    "              'hey mr dj please put a record on i want to dance with my baby',\n",
    "              'because we are living in a material world and im a material girl']\n",
    "\n",
    "labels = [artist1] * 5 + [artist2] * 5"
   ]
  },
  {
   "cell_type": "code",
   "execution_count": 2,
   "metadata": {},
   "outputs": [
    {
     "data": {
      "text/plain": [
       "['come as you are as you were as I want you to be',\n",
       " 'polly wants a cracker think i should get off her first',\n",
       " \"im so happy because today found my friends they're in my head\",\n",
       " 'we can escape to a higher plane',\n",
       " 'im so lonely i shaved my head and im not sad i dont care im so horny',\n",
       " 'like a virgin touched for the very first time',\n",
       " 'tropical the island breeze all of nature wild and free',\n",
       " 'when you call me name its like a little prayer down on my knees i want to take you there',\n",
       " 'hey mr dj please put a record on i want to dance with my baby',\n",
       " 'because we are living in a material world and im a material girl']"
      ]
     },
     "execution_count": 2,
     "metadata": {},
     "output_type": "execute_result"
    }
   ],
   "source": [
    "text_corpus"
   ]
  },
  {
   "cell_type": "code",
   "execution_count": 3,
   "metadata": {},
   "outputs": [
    {
     "data": {
      "text/plain": [
       "True"
      ]
     },
     "execution_count": 3,
     "metadata": {},
     "output_type": "execute_result"
    }
   ],
   "source": [
    "len(text_corpus) == len(labels)"
   ]
  },
  {
   "cell_type": "markdown",
   "metadata": {},
   "source": [
    "### Let's vectorise our text corpus:"
   ]
  },
  {
   "cell_type": "code",
   "execution_count": 4,
   "metadata": {},
   "outputs": [],
   "source": [
    "from sklearn.feature_extraction.text import CountVectorizer\n",
    "from sklearn.feature_extraction.text import TfidfTransformer"
   ]
  },
  {
   "cell_type": "code",
   "execution_count": 5,
   "metadata": {},
   "outputs": [],
   "source": [
    "# There are some interesting CountVect. hyperparameters!\n",
    "cv = CountVectorizer(stop_words='english')"
   ]
  },
  {
   "cell_type": "code",
   "execution_count": 6,
   "metadata": {},
   "outputs": [],
   "source": [
    "vec = cv.fit_transform(text_corpus)"
   ]
  },
  {
   "cell_type": "code",
   "execution_count": 7,
   "metadata": {
    "scrolled": true
   },
   "outputs": [
    {
     "data": {
      "text/plain": [
       "<10x43 sparse matrix of type '<class 'numpy.int64'>'\n",
       "\twith 49 stored elements in Compressed Sparse Row format>"
      ]
     },
     "execution_count": 7,
     "metadata": {},
     "output_type": "execute_result"
    }
   ],
   "source": [
    "vec # 10x44 means 44 unique words in our 10 phrases"
   ]
  },
  {
   "cell_type": "code",
   "execution_count": 9,
   "metadata": {},
   "outputs": [],
   "source": [
    "# vec.todense()"
   ]
  },
  {
   "cell_type": "code",
   "execution_count": 10,
   "metadata": {},
   "outputs": [],
   "source": [
    "tf = TfidfTransformer()"
   ]
  },
  {
   "cell_type": "code",
   "execution_count": 11,
   "metadata": {},
   "outputs": [],
   "source": [
    "vec2 = tf.fit_transform(vec)"
   ]
  },
  {
   "cell_type": "code",
   "execution_count": 23,
   "metadata": {},
   "outputs": [],
   "source": [
    "# vec2.todense() #a bit more scaling and normalisation done to it\n",
    "               # we now have floating points"
   ]
  },
  {
   "cell_type": "code",
   "execution_count": 12,
   "metadata": {},
   "outputs": [],
   "source": [
    "X = vec2\n",
    "y = labels # our artists"
   ]
  },
  {
   "cell_type": "code",
   "execution_count": 13,
   "metadata": {},
   "outputs": [],
   "source": [
    "from sklearn.naive_bayes import MultinomialNB"
   ]
  },
  {
   "cell_type": "code",
   "execution_count": 14,
   "metadata": {},
   "outputs": [],
   "source": [
    "m = MultinomialNB()\n",
    "# Alpha hyperparameter - the higher the alpha, it's going to take more \n",
    "# discrimiating, distinct words to distinguish which artist song belongs to"
   ]
  },
  {
   "cell_type": "code",
   "execution_count": 15,
   "metadata": {},
   "outputs": [
    {
     "data": {
      "text/plain": [
       "MultinomialNB(alpha=1.0, class_prior=None, fit_prior=True)"
      ]
     },
     "execution_count": 15,
     "metadata": {},
     "output_type": "execute_result"
    }
   ],
   "source": [
    "m.fit(X, y)"
   ]
  },
  {
   "cell_type": "code",
   "execution_count": 16,
   "metadata": {
    "scrolled": true
   },
   "outputs": [
    {
     "data": {
      "text/plain": [
       "1.0"
      ]
     },
     "execution_count": 16,
     "metadata": {},
     "output_type": "execute_result"
    }
   ],
   "source": [
    "m.score(X, y)"
   ]
  },
  {
   "cell_type": "code",
   "execution_count": 17,
   "metadata": {},
   "outputs": [],
   "source": [
    "new_text = [\"baby girl you rock my world\",\n",
    "           \"kill me now now and shave my head\",\n",
    "           \"tropical piña colada getting caught in the rain\",\n",
    "           \"come dj prayer\"]"
   ]
  },
  {
   "cell_type": "code",
   "execution_count": 18,
   "metadata": {},
   "outputs": [],
   "source": [
    "vec_test = cv.transform(new_text)"
   ]
  },
  {
   "cell_type": "code",
   "execution_count": 19,
   "metadata": {},
   "outputs": [],
   "source": [
    "vec_test_final = tf.transform(vec_test)"
   ]
  },
  {
   "cell_type": "code",
   "execution_count": 20,
   "metadata": {},
   "outputs": [
    {
     "data": {
      "text/plain": [
       "array(['Madonna', 'Nirvana', 'Madonna', 'Madonna'], dtype='<U7')"
      ]
     },
     "execution_count": 20,
     "metadata": {},
     "output_type": "execute_result"
    }
   ],
   "source": [
    "m.predict(vec_test_final)"
   ]
  },
  {
   "cell_type": "code",
   "execution_count": 21,
   "metadata": {},
   "outputs": [
    {
     "data": {
      "text/plain": [
       "array([[0.62342229, 0.37657771],\n",
       "       [0.36996851, 0.63003149],\n",
       "       [0.57849236, 0.42150764],\n",
       "       [0.50834738, 0.49165262]])"
      ]
     },
     "execution_count": 21,
     "metadata": {},
     "output_type": "execute_result"
    }
   ],
   "source": [
    "m.predict_proba(vec_test_final)"
   ]
  },
  {
   "cell_type": "code",
   "execution_count": 22,
   "metadata": {},
   "outputs": [
    {
     "data": {
      "text/plain": [
       "array([[-0.47253116, -0.97663085],\n",
       "       [-0.99433739, -0.46198547],\n",
       "       [-0.54732993, -0.86391738],\n",
       "       [-0.67659025, -0.70998287]])"
      ]
     },
     "execution_count": 22,
     "metadata": {},
     "output_type": "execute_result"
    }
   ],
   "source": [
    "m.predict_log_proba(vec_test_final)"
   ]
  },
  {
   "cell_type": "code",
   "execution_count": 23,
   "metadata": {},
   "outputs": [],
   "source": [
    "prob_log = m.feature_log_prob_"
   ]
  },
  {
   "cell_type": "code",
   "execution_count": 24,
   "metadata": {},
   "outputs": [
    {
     "data": {
      "text/plain": [
       "array([ 0.30400415,  0.31658745, -0.28221518, -0.61488304, -0.43122425,\n",
       "        0.30400415,  0.30400415, -0.28221518, -0.48150553,  0.31658745,\n",
       "       -0.42023489,  0.28456107, -0.42023489, -0.53235192,  0.30400415,\n",
       "       -0.48150553, -0.28221518, -0.48535885,  0.31658745,  0.36871662,\n",
       "        0.5903472 ,  0.36871662,  0.28456107, -0.28221518,  0.52104552,\n",
       "        0.30400415,  0.31658745, -0.48150553, -0.43122425,  0.36871662,\n",
       "        0.30400415, -0.28221518, -0.28221518, -0.43122425,  0.39182616,\n",
       "       -0.42023489,  0.39182616,  0.31658745,  0.39182616,  0.00715254,\n",
       "       -0.43122425,  0.31658745,  0.28456107])"
      ]
     },
     "execution_count": 24,
     "metadata": {},
     "output_type": "execute_result"
    }
   ],
   "source": [
    "difference = prob_log[0] - prob_log[1]\n",
    "difference"
   ]
  },
  {
   "cell_type": "code",
   "execution_count": 25,
   "metadata": {
    "scrolled": true
   },
   "outputs": [
    {
     "data": {
      "text/plain": [
       "['baby',\n",
       " 'breeze',\n",
       " 'care',\n",
       " 'come',\n",
       " 'cracker',\n",
       " 'dance',\n",
       " 'dj',\n",
       " 'dont',\n",
       " 'escape',\n",
       " 'free',\n",
       " 'friends',\n",
       " 'girl',\n",
       " 'happy',\n",
       " 'head',\n",
       " 'hey',\n",
       " 'higher',\n",
       " 'horny',\n",
       " 'im',\n",
       " 'island',\n",
       " 'knees',\n",
       " 'like',\n",
       " 'little',\n",
       " 'living',\n",
       " 'lonely',\n",
       " 'material',\n",
       " 'mr',\n",
       " 'nature',\n",
       " 'plane',\n",
       " 'polly',\n",
       " 'prayer',\n",
       " 'record',\n",
       " 'sad',\n",
       " 'shaved',\n",
       " 'think',\n",
       " 'time',\n",
       " 'today',\n",
       " 'touched',\n",
       " 'tropical',\n",
       " 'virgin',\n",
       " 'want',\n",
       " 'wants',\n",
       " 'wild',\n",
       " 'world']"
      ]
     },
     "execution_count": 25,
     "metadata": {},
     "output_type": "execute_result"
    }
   ],
   "source": [
    "sorted(cv.vocabulary_.keys())"
   ]
  },
  {
   "cell_type": "code",
   "execution_count": 26,
   "metadata": {
    "scrolled": true
   },
   "outputs": [
    {
     "data": {
      "text/html": [
       "<div>\n",
       "<style scoped>\n",
       "    .dataframe tbody tr th:only-of-type {\n",
       "        vertical-align: middle;\n",
       "    }\n",
       "\n",
       "    .dataframe tbody tr th {\n",
       "        vertical-align: top;\n",
       "    }\n",
       "\n",
       "    .dataframe thead th {\n",
       "        text-align: right;\n",
       "    }\n",
       "</style>\n",
       "<table border=\"1\" class=\"dataframe\">\n",
       "  <thead>\n",
       "    <tr style=\"text-align: right;\">\n",
       "      <th></th>\n",
       "      <th>0</th>\n",
       "    </tr>\n",
       "  </thead>\n",
       "  <tbody>\n",
       "    <tr>\n",
       "      <th>come</th>\n",
       "      <td>-0.614883</td>\n",
       "    </tr>\n",
       "    <tr>\n",
       "      <th>head</th>\n",
       "      <td>-0.532352</td>\n",
       "    </tr>\n",
       "    <tr>\n",
       "      <th>im</th>\n",
       "      <td>-0.485359</td>\n",
       "    </tr>\n",
       "    <tr>\n",
       "      <th>higher</th>\n",
       "      <td>-0.481506</td>\n",
       "    </tr>\n",
       "    <tr>\n",
       "      <th>plane</th>\n",
       "      <td>-0.481506</td>\n",
       "    </tr>\n",
       "    <tr>\n",
       "      <th>escape</th>\n",
       "      <td>-0.481506</td>\n",
       "    </tr>\n",
       "    <tr>\n",
       "      <th>polly</th>\n",
       "      <td>-0.431224</td>\n",
       "    </tr>\n",
       "    <tr>\n",
       "      <th>wants</th>\n",
       "      <td>-0.431224</td>\n",
       "    </tr>\n",
       "    <tr>\n",
       "      <th>cracker</th>\n",
       "      <td>-0.431224</td>\n",
       "    </tr>\n",
       "    <tr>\n",
       "      <th>think</th>\n",
       "      <td>-0.431224</td>\n",
       "    </tr>\n",
       "    <tr>\n",
       "      <th>happy</th>\n",
       "      <td>-0.420235</td>\n",
       "    </tr>\n",
       "    <tr>\n",
       "      <th>today</th>\n",
       "      <td>-0.420235</td>\n",
       "    </tr>\n",
       "    <tr>\n",
       "      <th>friends</th>\n",
       "      <td>-0.420235</td>\n",
       "    </tr>\n",
       "    <tr>\n",
       "      <th>lonely</th>\n",
       "      <td>-0.282215</td>\n",
       "    </tr>\n",
       "    <tr>\n",
       "      <th>shaved</th>\n",
       "      <td>-0.282215</td>\n",
       "    </tr>\n",
       "    <tr>\n",
       "      <th>horny</th>\n",
       "      <td>-0.282215</td>\n",
       "    </tr>\n",
       "    <tr>\n",
       "      <th>care</th>\n",
       "      <td>-0.282215</td>\n",
       "    </tr>\n",
       "    <tr>\n",
       "      <th>sad</th>\n",
       "      <td>-0.282215</td>\n",
       "    </tr>\n",
       "    <tr>\n",
       "      <th>dont</th>\n",
       "      <td>-0.282215</td>\n",
       "    </tr>\n",
       "    <tr>\n",
       "      <th>want</th>\n",
       "      <td>0.007153</td>\n",
       "    </tr>\n",
       "    <tr>\n",
       "      <th>living</th>\n",
       "      <td>0.284561</td>\n",
       "    </tr>\n",
       "    <tr>\n",
       "      <th>world</th>\n",
       "      <td>0.284561</td>\n",
       "    </tr>\n",
       "    <tr>\n",
       "      <th>girl</th>\n",
       "      <td>0.284561</td>\n",
       "    </tr>\n",
       "    <tr>\n",
       "      <th>record</th>\n",
       "      <td>0.304004</td>\n",
       "    </tr>\n",
       "    <tr>\n",
       "      <th>mr</th>\n",
       "      <td>0.304004</td>\n",
       "    </tr>\n",
       "    <tr>\n",
       "      <th>baby</th>\n",
       "      <td>0.304004</td>\n",
       "    </tr>\n",
       "    <tr>\n",
       "      <th>dance</th>\n",
       "      <td>0.304004</td>\n",
       "    </tr>\n",
       "    <tr>\n",
       "      <th>hey</th>\n",
       "      <td>0.304004</td>\n",
       "    </tr>\n",
       "    <tr>\n",
       "      <th>dj</th>\n",
       "      <td>0.304004</td>\n",
       "    </tr>\n",
       "    <tr>\n",
       "      <th>nature</th>\n",
       "      <td>0.316587</td>\n",
       "    </tr>\n",
       "    <tr>\n",
       "      <th>wild</th>\n",
       "      <td>0.316587</td>\n",
       "    </tr>\n",
       "    <tr>\n",
       "      <th>breeze</th>\n",
       "      <td>0.316587</td>\n",
       "    </tr>\n",
       "    <tr>\n",
       "      <th>tropical</th>\n",
       "      <td>0.316587</td>\n",
       "    </tr>\n",
       "    <tr>\n",
       "      <th>island</th>\n",
       "      <td>0.316587</td>\n",
       "    </tr>\n",
       "    <tr>\n",
       "      <th>free</th>\n",
       "      <td>0.316587</td>\n",
       "    </tr>\n",
       "    <tr>\n",
       "      <th>little</th>\n",
       "      <td>0.368717</td>\n",
       "    </tr>\n",
       "    <tr>\n",
       "      <th>knees</th>\n",
       "      <td>0.368717</td>\n",
       "    </tr>\n",
       "    <tr>\n",
       "      <th>prayer</th>\n",
       "      <td>0.368717</td>\n",
       "    </tr>\n",
       "    <tr>\n",
       "      <th>touched</th>\n",
       "      <td>0.391826</td>\n",
       "    </tr>\n",
       "    <tr>\n",
       "      <th>virgin</th>\n",
       "      <td>0.391826</td>\n",
       "    </tr>\n",
       "    <tr>\n",
       "      <th>time</th>\n",
       "      <td>0.391826</td>\n",
       "    </tr>\n",
       "    <tr>\n",
       "      <th>material</th>\n",
       "      <td>0.521046</td>\n",
       "    </tr>\n",
       "    <tr>\n",
       "      <th>like</th>\n",
       "      <td>0.590347</td>\n",
       "    </tr>\n",
       "  </tbody>\n",
       "</table>\n",
       "</div>"
      ],
      "text/plain": [
       "                 0\n",
       "come     -0.614883\n",
       "head     -0.532352\n",
       "im       -0.485359\n",
       "higher   -0.481506\n",
       "plane    -0.481506\n",
       "escape   -0.481506\n",
       "polly    -0.431224\n",
       "wants    -0.431224\n",
       "cracker  -0.431224\n",
       "think    -0.431224\n",
       "happy    -0.420235\n",
       "today    -0.420235\n",
       "friends  -0.420235\n",
       "lonely   -0.282215\n",
       "shaved   -0.282215\n",
       "horny    -0.282215\n",
       "care     -0.282215\n",
       "sad      -0.282215\n",
       "dont     -0.282215\n",
       "want      0.007153\n",
       "living    0.284561\n",
       "world     0.284561\n",
       "girl      0.284561\n",
       "record    0.304004\n",
       "mr        0.304004\n",
       "baby      0.304004\n",
       "dance     0.304004\n",
       "hey       0.304004\n",
       "dj        0.304004\n",
       "nature    0.316587\n",
       "wild      0.316587\n",
       "breeze    0.316587\n",
       "tropical  0.316587\n",
       "island    0.316587\n",
       "free      0.316587\n",
       "little    0.368717\n",
       "knees     0.368717\n",
       "prayer    0.368717\n",
       "touched   0.391826\n",
       "virgin    0.391826\n",
       "time      0.391826\n",
       "material  0.521046\n",
       "like      0.590347"
      ]
     },
     "execution_count": 26,
     "metadata": {},
     "output_type": "execute_result"
    }
   ],
   "source": [
    "import pandas as pd\n",
    "\n",
    "pd.DataFrame(data=difference, \n",
    "             index=sorted(cv.vocabulary_.keys())).sort_values(by=0)"
   ]
  },
  {
   "cell_type": "markdown",
   "metadata": {},
   "source": [
    "#### Towards -1 the words are more closely associated with Nirvana, towards +1 the words are more closely associated to "
   ]
  },
  {
   "cell_type": "markdown",
   "metadata": {},
   "source": [
    "**Bonus**\n",
    "- Rather than using Requests + RegEx / BS4, use **Scrapy**\n",
    "- Rather than storing all your text / artist labels locally in CSV files / .txt files, etc...\n",
    "    - Store them in a Database:\n",
    "        - SQL Lite (You need to use SQL)\n",
    "        - PostGres (probably overkill...)\n",
    "        - NoSQL data e.g. MongoDB\n",
    "        \n",
    "- Add a command-line interface\n",
    "    - Move your project outside of Jupyter Notebook, into a **.py** files, and allow the 'user' to simply type in a piece of text in the command line / terminal, and then it outputs the result / guess in the terminal.\n",
    "    \n",
    "    `python lyric_classifier.py \"is this the real life is this just fantasy\"`"
   ]
  },
  {
   "cell_type": "code",
   "execution_count": null,
   "metadata": {},
   "outputs": [],
   "source": []
  }
 ],
 "metadata": {
  "kernelspec": {
   "display_name": "Python 3",
   "language": "python",
   "name": "python3"
  },
  "language_info": {
   "codemirror_mode": {
    "name": "ipython",
    "version": 3
   },
   "file_extension": ".py",
   "mimetype": "text/x-python",
   "name": "python",
   "nbconvert_exporter": "python",
   "pygments_lexer": "ipython3",
   "version": "3.7.1"
  }
 },
 "nbformat": 4,
 "nbformat_minor": 2
}
