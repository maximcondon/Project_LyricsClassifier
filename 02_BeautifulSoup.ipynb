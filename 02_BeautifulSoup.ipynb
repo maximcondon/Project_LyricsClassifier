{
 "cells": [
  {
   "cell_type": "markdown",
   "metadata": {},
   "source": [
    "# Beautiful Soup\n",
    "\n",
    "Main tools used for scraping web data!\n",
    "\n",
    "For the project, we will scrape lyrics from the web and use Machine Learning to Identify song authors!\n",
    "\n",
    "- Going to scrape the web using requests to grab the content\n",
    "\n",
    "- Parse the content - breaking stuff into substructures - using Beautiful Soup\n",
    "\n",
    "- Apply text classification to the content you've parsed - one aspect of the project will be to parse english and break it down to understand verbs, nouns, adverbs, etc... - using spaCy\n",
    "\n",
    "- Create a bag of words - basic introduction to word vectorisation - turns lyrics and text into numerical data that we can process \n",
    "\n",
    "- We'll also use a Naive Bayes model\n",
    "\n",
    "- using Scrapy - scraping tool to grab data off the web\n",
    "\n",
    "The data we'll be using is text data - text corpora ie a body of text\n",
    "\n",
    "### Theory:\n",
    "\n",
    "- Regex - context free grammar - a very simple computer grammar - practically applied through RegEx - RE uses it\n",
    "\n",
    "- Dependency grammar - spaCy uses it\n",
    "\n",
    "- Naive Bayes - probability theory \n",
    "\n",
    "- Bag of words, Count Vectorizer, TF-IDF: manner of transforming our word data into numerical data! Each word has a different vector and similar words have similar vectors\n",
    "\n",
    "- Class balance: making sure that your training data is split in a nice way so you're not making your classes imbalanced \n",
    "\n",
    "### 3 main ways to scrape text off the internet\n",
    "\n",
    "We need our computer to skip all the mess of crap of HTML and CSS and all that and just skip down to the lyrics\n",
    "\n",
    "1. Requests + RegEx: Highly customisable and can be used on any text, but very hard when you have a complex page source, and it doesn't understand HTML structure!\n",
    "\n",
    "2. Requests + Beautiful Soup: it is built for XML/HTML, it uses Regular Expressions, it parses it for you and it's super useful, however, it ONLY works for XML/HTML\n",
    "\n",
    "3. Scrapy: Most powerful tool - you can specify what you search and it can trick websites and loads of other awesome stuff, BUT it's a total black box"
   ]
  },
  {
   "cell_type": "markdown",
   "metadata": {},
   "source": [
    "### Grab and parse web content\n",
    "\n",
    "#### Read the documentation here (https://www.crummy.com/software/BeautifulSoup/bs4/doc/)\n",
    "\n",
    "#### Simple request - pass in the url only"
   ]
  },
  {
   "cell_type": "code",
   "execution_count": 1,
   "metadata": {},
   "outputs": [],
   "source": [
    "import requests\n",
    "\n",
    "lyrics = requests.get('https://www.lyrics.com/lyric/23507253/Perth')"
   ]
  },
  {
   "cell_type": "code",
   "execution_count": 2,
   "metadata": {},
   "outputs": [
    {
     "data": {
      "text/plain": [
       "200"
      ]
     },
     "execution_count": 2,
     "metadata": {},
     "output_type": "execute_result"
    }
   ],
   "source": [
    "lyrics.status_code #200 is http code for accepted!"
   ]
  },
  {
   "cell_type": "code",
   "execution_count": 3,
   "metadata": {},
   "outputs": [
    {
     "data": {
      "text/plain": [
       "<Response [200]>"
      ]
     },
     "execution_count": 3,
     "metadata": {},
     "output_type": "execute_result"
    }
   ],
   "source": [
    "lyrics"
   ]
  },
  {
   "cell_type": "markdown",
   "metadata": {},
   "source": [
    "#### complex request: \n",
    "* get requests and post requests can both receive dictionaries as values.\n",
    "* pass in custom headers (to avoice website bot blocking) using keyword headers\n",
    "* (pass in get parameters using keyword params)\n",
    "* headers = {'User-Agent': 'Mozilla/5.0 (Macintosh; Intel Mac OS X 10_10_1) AppleWebKit/537.36 (KHTML, like Gecko) Chrome/39.0.2171.95 Safari/537.36'}"
   ]
  },
  {
   "cell_type": "markdown",
   "metadata": {},
   "source": [
    "Instead of the site thinking you're a bot and presenting a firewall, it will think you're a regular person browsing if you use headers"
   ]
  },
  {
   "cell_type": "code",
   "execution_count": 4,
   "metadata": {},
   "outputs": [],
   "source": [
    "headers = {'User-Agent': 'Mozilla/5.0 (Macintosh; Intel Mac OS X 10_10_1) AppleWebKit/537.36 (KHTML, like Gecko) Chrome/39.0.2171.95 Safari/537.36'}"
   ]
  },
  {
   "cell_type": "code",
   "execution_count": 6,
   "metadata": {},
   "outputs": [],
   "source": [
    "lyrics = requests.get('https://www.lyrics.com/lyric/23507253/Perth', headers = headers)"
   ]
  },
  {
   "cell_type": "markdown",
   "metadata": {},
   "source": [
    "* Check the status of the request grab"
   ]
  },
  {
   "cell_type": "code",
   "execution_count": 7,
   "metadata": {
    "scrolled": true
   },
   "outputs": [
    {
     "data": {
      "text/plain": [
       "200"
      ]
     },
     "execution_count": 7,
     "metadata": {},
     "output_type": "execute_result"
    }
   ],
   "source": [
    "lyrics.status_code"
   ]
  },
  {
   "cell_type": "markdown",
   "metadata": {},
   "source": [
    "* Get the content as text"
   ]
  },
  {
   "cell_type": "code",
   "execution_count": 8,
   "metadata": {},
   "outputs": [
    {
     "data": {
      "text/plain": [
       "'\\n<!doctype html>\\n<!--[if lt IE 7]> <html class=\"no-js lt-ie9 lt-ie8 lt-ie7\" lang=\"en\"> <![endif]-->\\n<!--[if IE 7]>    <html class=\"no-js lt-ie9 lt-ie8\" lang=\"en\"> <![endif]-->\\n<!--[if IE 8]>    <html '"
      ]
     },
     "execution_count": 8,
     "metadata": {},
     "output_type": "execute_result"
    }
   ],
   "source": [
    "lyrics.text[:200]"
   ]
  },
  {
   "cell_type": "markdown",
   "metadata": {},
   "source": [
    "#### There will be some JavaScript in there, some HTML... but it's all pretty useless\n",
    "\n",
    "##### Common http status codes - https://www.restapitutorial.com/httpstatuscodes.html"
   ]
  },
  {
   "cell_type": "markdown",
   "metadata": {},
   "source": [
    "### BS4\n",
    "* With the data we have collected, we can try out Beautiful Soup concepts\n",
    "* We have some raw text data but now we need to parse it!"
   ]
  },
  {
   "cell_type": "code",
   "execution_count": 9,
   "metadata": {},
   "outputs": [],
   "source": [
    "from bs4 import BeautifulSoup as soup"
   ]
  },
  {
   "cell_type": "markdown",
   "metadata": {},
   "source": [
    "#### BeautifulSoup accepts text data and binary data too! 99% of the time you are parsing HTML, but sometimes XML and LXML..."
   ]
  },
  {
   "cell_type": "code",
   "execution_count": 10,
   "metadata": {},
   "outputs": [],
   "source": [
    "parse_lyrics = soup(lyrics.text, 'html.parser') # gonna give it text data"
   ]
  },
  {
   "cell_type": "code",
   "execution_count": 11,
   "metadata": {
    "scrolled": false
   },
   "outputs": [
    {
     "data": {
      "text/plain": [
       "bs4.BeautifulSoup"
      ]
     },
     "execution_count": 11,
     "metadata": {},
     "output_type": "execute_result"
    }
   ],
   "source": [
    "type(parse_lyrics) "
   ]
  },
  {
   "cell_type": "markdown",
   "metadata": {},
   "source": [
    "**.prettify** should clean up your text"
   ]
  },
  {
   "cell_type": "code",
   "execution_count": 1,
   "metadata": {},
   "outputs": [],
   "source": [
    "# parse_lyrics.prettify"
   ]
  },
  {
   "cell_type": "markdown",
   "metadata": {},
   "source": [
    "### What are we looking at? _(attributes)_"
   ]
  },
  {
   "cell_type": "markdown",
   "metadata": {},
   "source": [
    "#### The attributes of a BeautifulSoup object are:\n",
    "* Tags - representing html tags, whose attributes are stored in a dictionary on the Tag object (BeautifulSoup object behaves like a Tag object)\n",
    "\n",
    "\n",
    "* NavigableString - represents the text stored within Tags. Behaves like a string but carries parsetree reference, which is memory intensive, so convert using unicode() or string() before using elsewhere (Comments are special kinds of NavigableStrings)"
   ]
  },
  {
   "cell_type": "markdown",
   "metadata": {},
   "source": [
    "### And how do we extract information from it? _(methods)_"
   ]
  },
  {
   "cell_type": "markdown",
   "metadata": {},
   "source": [
    "#### The methods we can use on a BeautifulSoup object are:\n",
    "* prettify - convert the returned BS object into formatted html output\n",
    "* find - find the first instance of an html attribute\n",
    "* find_all - find all instances of an html attribute\n",
    "* There are several other find and find_all methods which replicate the above behaviour, but for particular attributes, and include (find_next / find_all_next /  find_previous / find_all_previous / find_parent / next_sibling / previous_sibling)\n",
    "* Generators - incremental iterables, main one is children and descendants"
   ]
  },
  {
   "cell_type": "markdown",
   "metadata": {},
   "source": [
    "#### Let's combine these attributes and methods to look for some useful information"
   ]
  },
  {
   "cell_type": "markdown",
   "metadata": {},
   "source": [
    "#### 1: Generator method: children or descendents\n",
    "\n",
    "Generators are a fancy / niche list to only generate data only when they need it"
   ]
  },
  {
   "cell_type": "code",
   "execution_count": 15,
   "metadata": {
    "scrolled": true
   },
   "outputs": [
    {
     "data": {
      "text/plain": [
       "[bs4.element.NavigableString,\n",
       " bs4.element.Doctype,\n",
       " bs4.element.NavigableString,\n",
       " bs4.element.Comment,\n",
       " bs4.element.NavigableString,\n",
       " bs4.element.Comment,\n",
       " bs4.element.NavigableString,\n",
       " bs4.element.Comment,\n",
       " bs4.element.NavigableString,\n",
       " bs4.element.Comment,\n",
       " bs4.element.NavigableString,\n",
       " bs4.element.Tag,\n",
       " bs4.element.NavigableString,\n",
       " bs4.element.Comment]"
      ]
     },
     "execution_count": 15,
     "metadata": {},
     "output_type": "execute_result"
    }
   ],
   "source": [
    "gen = [type(x) for x in parse_lyrics.children]\n",
    "gen"
   ]
  },
  {
   "cell_type": "markdown",
   "metadata": {},
   "source": [
    "- We get back a bunch of elements - not particularly useful\n",
    "\n",
    "- This shows us it is a nested structure\n",
    "\n",
    "- **NavigatableStrings are what we are interested in**, we want to ignore .Doctypes and .Comments"
   ]
  },
  {
   "cell_type": "code",
   "execution_count": 20,
   "metadata": {},
   "outputs": [
    {
     "data": {
      "text/plain": [
       "[str]"
      ]
     },
     "execution_count": 20,
     "metadata": {},
     "output_type": "execute_result"
    }
   ],
   "source": [
    "gen = [x for x in parse_lyrics.children]\n",
    "gen2 = [type(x) for x in gen[0]]\n",
    "gen2"
   ]
  },
  {
   "cell_type": "markdown",
   "metadata": {},
   "source": [
    "#### 2: Directly access tags in the html body using their tag name"
   ]
  },
  {
   "cell_type": "code",
   "execution_count": 24,
   "metadata": {},
   "outputs": [
    {
     "data": {
      "text/plain": [
       "bs4.element.Tag"
      ]
     },
     "execution_count": 24,
     "metadata": {},
     "output_type": "execute_result"
    }
   ],
   "source": [
    "type(parse_lyrics.body.p)"
   ]
  },
  {
   "cell_type": "markdown",
   "metadata": {},
   "source": [
    "#### 3: Use find or find_all to search for particular instances\n",
    "\n",
    "find finds the first value amnd returns that to you\n",
    "\n",
    "find_all returns all of them"
   ]
  },
  {
   "cell_type": "code",
   "execution_count": 25,
   "metadata": {},
   "outputs": [
    {
     "data": {
      "text/plain": [
       "<div id=\"fb-root\"></div>"
      ]
     },
     "execution_count": 25,
     "metadata": {},
     "output_type": "execute_result"
    }
   ],
   "source": [
    "parse_lyrics.find('div')"
   ]
  },
  {
   "cell_type": "markdown",
   "metadata": {},
   "source": [
    "#### Would be nice to grab divs with specific attributes!"
   ]
  },
  {
   "cell_type": "code",
   "execution_count": 27,
   "metadata": {
    "scrolled": false
   },
   "outputs": [
    {
     "data": {
      "text/plain": [
       "<pre class=\"lyric-body\" data-lang=\"en\" dir=\"ltr\" id=\"lyric-body-text\">I’m <a href=\"https://www.definitions.net/definition/tearing\" style=\"color:#222;\">tearing</a> up, <a href=\"https://www.definitions.net/definition/across\" style=\"color:#222;\">across</a> your face\n",
       "Move dust <a href=\"https://www.definitions.net/definition/through\" style=\"color:#222;\">through</a> the light\n",
       "To find your name\n",
       "It's <a href=\"https://www.definitions.net/definition/something\" style=\"color:#222;\">something</a> faint\n",
       "This is not a place\n",
       "Not yet awake, I'm <a href=\"https://www.definitions.net/definition/raised\" style=\"color:#222;\">raised</a> to make\n",
       "\n",
       "Still <a href=\"https://www.definitions.net/definition/alive\" style=\"color:#222;\">alive</a> who you, love\n",
       "Still <a href=\"https://www.definitions.net/definition/alive\" style=\"color:#222;\">alive</a> who you, love\n",
       "Still <a href=\"https://www.definitions.net/definition/alive\" style=\"color:#222;\">alive</a> who you, love\n",
       "\n",
       "In a <a href=\"https://www.definitions.net/definition/matter\" style=\"color:#222;\">matter</a> of an month\n",
       "From <a href=\"https://www.definitions.net/definition/forests\" style=\"color:#222;\">forests</a> for the soft\n",
       "Gotta know been lead aloft\n",
       "So I'm <a href=\"https://www.definitions.net/definition/ridding\" style=\"color:#222;\">ridding</a> all your stories\n",
       "What I know, what it is, is boring, wire it up!\n",
       "You're <a href=\"https://www.definitions.net/definition/breaking\" style=\"color:#222;\">breaking</a> your ground</pre>"
      ]
     },
     "execution_count": 27,
     "metadata": {},
     "output_type": "execute_result"
    }
   ],
   "source": [
    "parse_lyrics.find('pre', attrs={'class': 'lyric-body'})"
   ]
  },
  {
   "cell_type": "markdown",
   "metadata": {},
   "source": [
    "#### Or use a Boolean ..."
   ]
  },
  {
   "cell_type": "code",
   "execution_count": 28,
   "metadata": {
    "scrolled": false
   },
   "outputs": [
    {
     "data": {
      "text/plain": [
       "<pre class=\"lyric-body\" data-lang=\"en\" dir=\"ltr\" id=\"lyric-body-text\">I’m <a href=\"https://www.definitions.net/definition/tearing\" style=\"color:#222;\">tearing</a> up, <a href=\"https://www.definitions.net/definition/across\" style=\"color:#222;\">across</a> your face\n",
       "Move dust <a href=\"https://www.definitions.net/definition/through\" style=\"color:#222;\">through</a> the light\n",
       "To find your name\n",
       "It's <a href=\"https://www.definitions.net/definition/something\" style=\"color:#222;\">something</a> faint\n",
       "This is not a place\n",
       "Not yet awake, I'm <a href=\"https://www.definitions.net/definition/raised\" style=\"color:#222;\">raised</a> to make\n",
       "\n",
       "Still <a href=\"https://www.definitions.net/definition/alive\" style=\"color:#222;\">alive</a> who you, love\n",
       "Still <a href=\"https://www.definitions.net/definition/alive\" style=\"color:#222;\">alive</a> who you, love\n",
       "Still <a href=\"https://www.definitions.net/definition/alive\" style=\"color:#222;\">alive</a> who you, love\n",
       "\n",
       "In a <a href=\"https://www.definitions.net/definition/matter\" style=\"color:#222;\">matter</a> of an month\n",
       "From <a href=\"https://www.definitions.net/definition/forests\" style=\"color:#222;\">forests</a> for the soft\n",
       "Gotta know been lead aloft\n",
       "So I'm <a href=\"https://www.definitions.net/definition/ridding\" style=\"color:#222;\">ridding</a> all your stories\n",
       "What I know, what it is, is boring, wire it up!\n",
       "You're <a href=\"https://www.definitions.net/definition/breaking\" style=\"color:#222;\">breaking</a> your ground</pre>"
      ]
     },
     "execution_count": 28,
     "metadata": {},
     "output_type": "execute_result"
    }
   ],
   "source": [
    "parse_lyrics.find('pre', attrs={'class': True})"
   ]
  },
  {
   "cell_type": "code",
   "execution_count": 29,
   "metadata": {},
   "outputs": [],
   "source": [
    "all_pre_tags = parse_lyrics.find_all('pre', attrs={'class': 'lyric-body'})"
   ]
  },
  {
   "cell_type": "code",
   "execution_count": 30,
   "metadata": {},
   "outputs": [
    {
     "data": {
      "text/plain": [
       "1"
      ]
     },
     "execution_count": 30,
     "metadata": {},
     "output_type": "execute_result"
    }
   ],
   "source": [
    "len(all_pre_tags)"
   ]
  },
  {
   "cell_type": "code",
   "execution_count": 33,
   "metadata": {},
   "outputs": [
    {
     "data": {
      "text/plain": [
       "\"I’m tearing up, across your face\\r\\nMove dust through the light\\r\\nTo find your name\\r\\nIt's something faint\\r\\nThis is not a place\\r\\nNot yet awake, I'm raised to make\\r\\n\\r\\nStill alive who you, love\\r\\nStill alive who you, love\\r\\nStill alive who you, love\\r\\n\\r\\nIn a matter of an month\\r\\nFrom forests for the soft\\r\\nGotta know been lead aloft\\r\\nSo I'm ridding all your stories\\r\\nWhat I know, what it is, is boring, wire it up!\\r\\nYou're breaking your ground\""
      ]
     },
     "execution_count": 33,
     "metadata": {},
     "output_type": "execute_result"
    }
   ],
   "source": [
    "all_pre_tags[0].text"
   ]
  },
  {
   "cell_type": "markdown",
   "metadata": {},
   "source": [
    "**.text will give you everything you don't want inside your tags!**\n",
    "- But now we want to get rid of special characters! Let's use regular expressions to get rid of these special symbols"
   ]
  },
  {
   "cell_type": "code",
   "execution_count": 34,
   "metadata": {},
   "outputs": [],
   "source": [
    "import re "
   ]
  },
  {
   "cell_type": "code",
   "execution_count": 48,
   "metadata": {},
   "outputs": [],
   "source": [
    "# r tells python you're about to give it RegEx!\n",
    "\n",
    "clean_text = re.sub('\\r\\n', '. ', all_pre_tags[0].text)"
   ]
  },
  {
   "cell_type": "code",
   "execution_count": 49,
   "metadata": {
    "scrolled": true
   },
   "outputs": [
    {
     "data": {
      "text/plain": [
       "\"I’m tearing up, across your face. Move dust through the light. To find your name. It's something faint. This is not a place. Not yet awake, I'm raised to make. . Still alive who you, love. Still alive who you, love. Still alive who you, love. . In a matter of an month. From forests for the soft. Gotta know been lead aloft. So I'm ridding all your stories. What I know, what it is, is boring, wire it up!. You're breaking your ground\""
      ]
     },
     "execution_count": 49,
     "metadata": {},
     "output_type": "execute_result"
    }
   ],
   "source": [
    "clean_text"
   ]
  },
  {
   "cell_type": "markdown",
   "metadata": {},
   "source": [
    "#### Let's try and get all of the bon iver songs:"
   ]
  },
  {
   "cell_type": "code",
   "execution_count": 110,
   "metadata": {},
   "outputs": [],
   "source": [
    "bi = requests.get('https://www.lyrics.com/artist/Bon+Iver/991558')"
   ]
  },
  {
   "cell_type": "code",
   "execution_count": 111,
   "metadata": {},
   "outputs": [],
   "source": [
    "bi_html = soup(bi.text, 'html.parser')"
   ]
  },
  {
   "cell_type": "code",
   "execution_count": 112,
   "metadata": {},
   "outputs": [
    {
     "name": "stdout",
     "output_type": "stream",
     "text": [
      "http://www.lyrics.com/lyric/13416985/Bon+Iver/Blindsided\n",
      "http://www.lyrics.com/lyric/13416986/Bon+Iver/Creature+Fear\n",
      "http://www.lyrics.com/lyric/13416981/Bon+Iver/Flume\n",
      "http://www.lyrics.com/lyric/13416988/Bon+Iver/For+Emma\n",
      "http://www.lyrics.com/lyric/13416982/Bon+Iver/Lump+Sum\n",
      "http://www.lyrics.com/lyric/13416989/Bon+Iver/Re%3A+Stacks\n",
      "http://www.lyrics.com/lyric/13416983/Bon+Iver/Skinny+Love\n",
      "http://www.lyrics.com/lyric/13416984/Bon+Iver/The+Wolves%2C+Acts+1+%26+2\n",
      "http://www.lyrics.com/lyric/14834010/Bon+Iver/Wisconsin+%5B%2A%5D\n",
      "http://www.lyrics.com/lyric/26244541/Bon+Iver/Babys\n",
      "http://www.lyrics.com/lyric/26244542/Bon+Iver/Beach+Baby\n",
      "http://www.lyrics.com/lyric/26244543/Bon+Iver/Blood+Bank\n",
      "http://www.lyrics.com/lyric/26244540/Bon+Iver/Woods\n",
      "http://www.lyrics.com/lyric/16205906/Bon+Iver/Brackett%2C+WI\n",
      "http://www.lyrics.com/lyric/17777238/Saint+Vincent/Rosyln\n",
      "http://www.lyrics.com/lyric/19503761/Bon+Iver/Come+Talk+to+Me\n",
      "http://www.lyrics.com/lyric/22402977/Kanye+West/Lost+in+the+World\n",
      "http://www.lyrics.com/lyric/22338863/Jay-Z/Monster\n",
      "http://www.lyrics.com/lyric/23507244/Bon+Iver/Beth-Rest\n",
      "http://www.lyrics.com/lyric/23507246/Bon+Iver/Calgary\n",
      "http://www.lyrics.com/lyric/23507248/Bon+Iver/Hinnom%2C+TX\n",
      "http://www.lyrics.com/lyric/23507251/Bon+Iver/Holocene\n",
      "http://www.lyrics.com/lyric/23507249/Bon+Iver/Michicant\n",
      "http://www.lyrics.com/lyric/23507252/Bon+Iver/Minnesota%2C+WI\n",
      "http://www.lyrics.com/lyric/23507253/Bon+Iver/Perth\n",
      "http://www.lyrics.com/lyric/23507250/Bon+Iver/Towers\n",
      "http://www.lyrics.com/lyric/23507247/Bon+Iver/Wash.\n",
      "http://www.lyrics.com/lyric/23664365/Bon+Iver/I+Can%27t+Make+You+Love+Me-Nick+of+Time\n",
      "http://www.lyrics.com/lyric/24485231/Bon+Iver/Fall+Creek+Boys+Choir\n",
      "http://www.lyrics.com/lyric/26390440/The+Flaming+Lips/Ashes+in+the+Air\n",
      "http://www.lyrics.com/lyric/30981970/Bon+Iver/Heavenly+Father\n",
      "http://www.lyrics.com/lyric/33219751/Bon+Iver/____45_____\n",
      "http://www.lyrics.com/lyric/33219750/Bon+Iver/00000+Million\n",
      "http://www.lyrics.com/lyric/33219758/Bon+Iver/10+d+E+A+T+h+b+R+E+a+s+T+%3F\n",
      "http://www.lyrics.com/lyric/33219753/Bon+Iver/21+M%3F%3FN+WATER\n",
      "http://www.lyrics.com/lyric/33219759/Bon+Iver/22+%28OVER+S88N%29\n",
      "http://www.lyrics.com/lyric/33219755/Bon+Iver/29+%23Strafford+APTS\n",
      "http://www.lyrics.com/lyric/33219756/Bon+Iver/33+%22GOD%22\n",
      "http://www.lyrics.com/lyric/33219754/Bon+Iver/666+%3F\n",
      "http://www.lyrics.com/lyric/33219757/Bon+Iver/715+-+CR%3F%3FKS\n",
      "http://www.lyrics.com/lyric/33219752/Bon+Iver/8+%28circle%29\n",
      "http://www.lyrics.com/lyric/32909820/Bon+Iver/I+Need+a+Forest+Fire\n",
      "http://www.lyrics.com/lyric/35676080/Bon+Iver/Do+You+Need+Power%3F+%28Walk+Out+Music%29\n"
     ]
    }
   ],
   "source": [
    "for i in bi_html.find_all(attrs={'class':'tal qx'}):\n",
    "    a_tags = i.a\n",
    "    try:\n",
    "        print('http://www.lyrics.com'+ a_tags.get('href'))\n",
    "    except:\n",
    "        pass"
   ]
  },
  {
   "cell_type": "code",
   "execution_count": 113,
   "metadata": {},
   "outputs": [],
   "source": [
    "bi_song_list=[]\n",
    "for i in bi_html.find_all(attrs={'class':'tal qx'}):\n",
    "    a_tags = i.a\n",
    "    try:\n",
    "        bi_song_list.append('http://www.lyrics.com'+ a_tags.get('href'))\n",
    "    except:\n",
    "        pass"
   ]
  },
  {
   "cell_type": "code",
   "execution_count": 114,
   "metadata": {},
   "outputs": [
    {
     "data": {
      "text/plain": [
       "['http://www.lyrics.com/lyric/13416985/Bon+Iver/Blindsided',\n",
       " 'http://www.lyrics.com/lyric/13416986/Bon+Iver/Creature+Fear',\n",
       " 'http://www.lyrics.com/lyric/13416981/Bon+Iver/Flume',\n",
       " 'http://www.lyrics.com/lyric/13416988/Bon+Iver/For+Emma',\n",
       " 'http://www.lyrics.com/lyric/13416982/Bon+Iver/Lump+Sum',\n",
       " 'http://www.lyrics.com/lyric/13416989/Bon+Iver/Re%3A+Stacks',\n",
       " 'http://www.lyrics.com/lyric/13416983/Bon+Iver/Skinny+Love',\n",
       " 'http://www.lyrics.com/lyric/13416984/Bon+Iver/The+Wolves%2C+Acts+1+%26+2',\n",
       " 'http://www.lyrics.com/lyric/14834010/Bon+Iver/Wisconsin+%5B%2A%5D',\n",
       " 'http://www.lyrics.com/lyric/26244541/Bon+Iver/Babys',\n",
       " 'http://www.lyrics.com/lyric/26244542/Bon+Iver/Beach+Baby',\n",
       " 'http://www.lyrics.com/lyric/26244543/Bon+Iver/Blood+Bank',\n",
       " 'http://www.lyrics.com/lyric/26244540/Bon+Iver/Woods',\n",
       " 'http://www.lyrics.com/lyric/16205906/Bon+Iver/Brackett%2C+WI',\n",
       " 'http://www.lyrics.com/lyric/17777238/Saint+Vincent/Rosyln',\n",
       " 'http://www.lyrics.com/lyric/19503761/Bon+Iver/Come+Talk+to+Me',\n",
       " 'http://www.lyrics.com/lyric/22402977/Kanye+West/Lost+in+the+World',\n",
       " 'http://www.lyrics.com/lyric/22338863/Jay-Z/Monster',\n",
       " 'http://www.lyrics.com/lyric/23507244/Bon+Iver/Beth-Rest',\n",
       " 'http://www.lyrics.com/lyric/23507246/Bon+Iver/Calgary',\n",
       " 'http://www.lyrics.com/lyric/23507248/Bon+Iver/Hinnom%2C+TX',\n",
       " 'http://www.lyrics.com/lyric/23507251/Bon+Iver/Holocene',\n",
       " 'http://www.lyrics.com/lyric/23507249/Bon+Iver/Michicant',\n",
       " 'http://www.lyrics.com/lyric/23507252/Bon+Iver/Minnesota%2C+WI',\n",
       " 'http://www.lyrics.com/lyric/23507253/Bon+Iver/Perth',\n",
       " 'http://www.lyrics.com/lyric/23507250/Bon+Iver/Towers',\n",
       " 'http://www.lyrics.com/lyric/23507247/Bon+Iver/Wash.',\n",
       " 'http://www.lyrics.com/lyric/23664365/Bon+Iver/I+Can%27t+Make+You+Love+Me-Nick+of+Time',\n",
       " 'http://www.lyrics.com/lyric/24485231/Bon+Iver/Fall+Creek+Boys+Choir',\n",
       " 'http://www.lyrics.com/lyric/26390440/The+Flaming+Lips/Ashes+in+the+Air',\n",
       " 'http://www.lyrics.com/lyric/30981970/Bon+Iver/Heavenly+Father',\n",
       " 'http://www.lyrics.com/lyric/33219751/Bon+Iver/____45_____',\n",
       " 'http://www.lyrics.com/lyric/33219750/Bon+Iver/00000+Million',\n",
       " 'http://www.lyrics.com/lyric/33219758/Bon+Iver/10+d+E+A+T+h+b+R+E+a+s+T+%3F',\n",
       " 'http://www.lyrics.com/lyric/33219753/Bon+Iver/21+M%3F%3FN+WATER',\n",
       " 'http://www.lyrics.com/lyric/33219759/Bon+Iver/22+%28OVER+S88N%29',\n",
       " 'http://www.lyrics.com/lyric/33219755/Bon+Iver/29+%23Strafford+APTS',\n",
       " 'http://www.lyrics.com/lyric/33219756/Bon+Iver/33+%22GOD%22',\n",
       " 'http://www.lyrics.com/lyric/33219754/Bon+Iver/666+%3F',\n",
       " 'http://www.lyrics.com/lyric/33219757/Bon+Iver/715+-+CR%3F%3FKS',\n",
       " 'http://www.lyrics.com/lyric/33219752/Bon+Iver/8+%28circle%29',\n",
       " 'http://www.lyrics.com/lyric/32909820/Bon+Iver/I+Need+a+Forest+Fire',\n",
       " 'http://www.lyrics.com/lyric/35676080/Bon+Iver/Do+You+Need+Power%3F+%28Walk+Out+Music%29']"
      ]
     },
     "execution_count": 114,
     "metadata": {},
     "output_type": "execute_result"
    }
   ],
   "source": [
    "bi_song_list"
   ]
  },
  {
   "cell_type": "code",
   "execution_count": 75,
   "metadata": {},
   "outputs": [],
   "source": [
    "bi_song_list=[]\n",
    "for i in bi_html.find_all(attrs={'class':'tal qx'}):\n",
    "    a_tags = i.a\n",
    "    try:\n",
    "        bi_song_list.append('http://www.lyrics.com'+ a_tags.get('href'))\n",
    "    except:\n",
    "        pass"
   ]
  },
  {
   "cell_type": "markdown",
   "metadata": {},
   "source": [
    "#### Let's choose a song and find the lyrics"
   ]
  },
  {
   "cell_type": "code",
   "execution_count": 76,
   "metadata": {},
   "outputs": [
    {
     "data": {
      "text/plain": [
       "'http://www.lyrics.com/lyric/13416985/Bon+Iver/Blindsided'"
      ]
     },
     "execution_count": 76,
     "metadata": {},
     "output_type": "execute_result"
    }
   ],
   "source": [
    "bi_song_list[0]"
   ]
  },
  {
   "cell_type": "code",
   "execution_count": 78,
   "metadata": {},
   "outputs": [],
   "source": [
    "song0 = requests.get(bi_song_list[0])"
   ]
  },
  {
   "cell_type": "code",
   "execution_count": 90,
   "metadata": {},
   "outputs": [],
   "source": [
    "song0_html = soup(song0.text, 'html.parser')"
   ]
  },
  {
   "cell_type": "code",
   "execution_count": 93,
   "metadata": {},
   "outputs": [],
   "source": [
    "lyrics_song0 = song0_html.find_all(attrs={'id':'lyric-body-text'})"
   ]
  },
  {
   "cell_type": "code",
   "execution_count": 97,
   "metadata": {},
   "outputs": [],
   "source": [
    "song0_lyrics = []"
   ]
  },
  {
   "cell_type": "code",
   "execution_count": 99,
   "metadata": {},
   "outputs": [],
   "source": [
    "song0_lyrics.append(lyrics_song0[0].text)"
   ]
  },
  {
   "cell_type": "code",
   "execution_count": 100,
   "metadata": {},
   "outputs": [
    {
     "data": {
      "text/plain": [
       "\"Bike down, down to the downtown\\r\\nDown to the lock down, boards, nails lie around\\r\\n\\r\\nI crouch like a crow\\r\\nContrasting the snow\\r\\nFor the agony, I'd rather know\\r\\n'Cause blinded I am blindsided\\r\\n\\r\\nPeek in, into the peer in\\r\\nI'm not really like this, I'm probably plightless\\r\\n\\r\\nI cup the window\\r\\nI'm crippled and slow\\r\\nFor the agony\\r\\nI'd rather know\\r\\n'Cause blinded I am blindsided\\r\\n\\r\\nWould you really rush out for me now?\\r\\n\\r\\nTaught line, down to the shoreline\\r\\nThe end of a blood line, the moon is a cold light\\r\\n\\r\\nThere's a pull to the flow\\r\\nMy feet melt the snow\\r\\nFor the irony, I'd rather know\\r\\n'Cause blinded I was blindsided\\r\\n\\r\\n'Cause blinded I was blindsided\\r\\n\\r\\n'Cause blinded I was blindsided\""
      ]
     },
     "execution_count": 100,
     "metadata": {},
     "output_type": "execute_result"
    }
   ],
   "source": [
    "song0_lyrics[0]"
   ]
  },
  {
   "cell_type": "code",
   "execution_count": 101,
   "metadata": {},
   "outputs": [],
   "source": [
    "import re"
   ]
  },
  {
   "cell_type": "code",
   "execution_count": 107,
   "metadata": {},
   "outputs": [],
   "source": [
    "clean_song0 = re.sub('\\r\\n', ', ', lyrics_song0[0].text)"
   ]
  },
  {
   "cell_type": "code",
   "execution_count": 108,
   "metadata": {},
   "outputs": [
    {
     "data": {
      "text/plain": [
       "\"Bike down, down to the downtown, Down to the lock down, boards, nails lie around, , I crouch like a crow, Contrasting the snow, For the agony, I'd rather know, 'Cause blinded I am blindsided, , Peek in, into the peer in, I'm not really like this, I'm probably plightless, , I cup the window, I'm crippled and slow, For the agony, I'd rather know, 'Cause blinded I am blindsided, , Would you really rush out for me now?, , Taught line, down to the shoreline, The end of a blood line, the moon is a cold light, , There's a pull to the flow, My feet melt the snow, For the irony, I'd rather know, 'Cause blinded I was blindsided, , 'Cause blinded I was blindsided, , 'Cause blinded I was blindsided\""
      ]
     },
     "execution_count": 108,
     "metadata": {},
     "output_type": "execute_result"
    }
   ],
   "source": [
    "clean_song0"
   ]
  },
  {
   "cell_type": "markdown",
   "metadata": {},
   "source": [
    "#### Let's put it all in a function!"
   ]
  },
  {
   "cell_type": "code",
   "execution_count": 118,
   "metadata": {},
   "outputs": [],
   "source": [
    "def get_lyrics(url):\n",
    "\n",
    "    song = requests.get(url)\n",
    "    song_html = soup(song.text, 'html.parser')\n",
    "    lyrics_song = song_html.find(attrs={'id':'lyric-body-text'}) \n",
    "    clean_song = re.sub('\\r\\n', ' ', lyrics_song.text)\n",
    "    return clean_song"
   ]
  },
  {
   "cell_type": "code",
   "execution_count": 119,
   "metadata": {},
   "outputs": [
    {
     "data": {
      "text/plain": [
       "\"I am my mother's only one It's enough  I wear my garment so it shows Now you know  Only love is all maroon Gluey feathers on a flume Sky is womb and she's the moon  I am my mother on the wall, with us all I move in water, shore to shore; Nothing's more  Only love is all maroon Lapping lakes like leary loons Leaving rope burns Reddish rouge  Only love is all maroon Gluey feathers on a flume Sky is womb and she's the moon\""
      ]
     },
     "execution_count": 119,
     "metadata": {},
     "output_type": "execute_result"
    }
   ],
   "source": [
    "get_lyrics(bi_song_list[2])"
   ]
  },
  {
   "cell_type": "code",
   "execution_count": 138,
   "metadata": {},
   "outputs": [],
   "source": [
    "lyrics_list = []\n",
    "\n",
    "for i in bi_song_list:\n",
    "    \n",
    "    text = get_lyrics(i)\n",
    "    artist = i.split('/')[-2]\n",
    "    \n",
    "    lyrics_list.append((artist, text))"
   ]
  },
  {
   "cell_type": "code",
   "execution_count": 149,
   "metadata": {},
   "outputs": [
    {
     "name": "stdout",
     "output_type": "stream",
     "text": [
      "Bon+Iver\n",
      "Bon+Iver\n",
      "Bon+Iver\n",
      "Bon+Iver\n",
      "Bon+Iver\n",
      "Bon+Iver\n",
      "Bon+Iver\n",
      "Bon+Iver\n",
      "Bon+Iver\n",
      "Bon+Iver\n",
      "Bon+Iver\n",
      "Bon+Iver\n",
      "Bon+Iver\n",
      "Bon+Iver\n",
      "Saint+Vincent\n",
      "Bon+Iver\n",
      "Kanye+West\n",
      "Jay-Z\n",
      "Bon+Iver\n",
      "Bon+Iver\n",
      "Bon+Iver\n",
      "Bon+Iver\n",
      "Bon+Iver\n",
      "Bon+Iver\n",
      "Bon+Iver\n",
      "Bon+Iver\n",
      "Bon+Iver\n",
      "Bon+Iver\n",
      "Bon+Iver\n",
      "The+Flaming+Lips\n",
      "Bon+Iver\n",
      "Bon+Iver\n",
      "Bon+Iver\n",
      "Bon+Iver\n",
      "Bon+Iver\n",
      "Bon+Iver\n",
      "Bon+Iver\n",
      "Bon+Iver\n",
      "Bon+Iver\n",
      "Bon+Iver\n",
      "Bon+Iver\n",
      "Bon+Iver\n",
      "Bon+Iver\n"
     ]
    }
   ],
   "source": [
    "for i in bi_song_list:\n",
    "    print(i.split('/')[-2])"
   ]
  },
  {
   "cell_type": "code",
   "execution_count": 140,
   "metadata": {},
   "outputs": [
    {
     "data": {
      "text/html": [
       "<div>\n",
       "<style scoped>\n",
       "    .dataframe tbody tr th:only-of-type {\n",
       "        vertical-align: middle;\n",
       "    }\n",
       "\n",
       "    .dataframe tbody tr th {\n",
       "        vertical-align: top;\n",
       "    }\n",
       "\n",
       "    .dataframe thead th {\n",
       "        text-align: right;\n",
       "    }\n",
       "</style>\n",
       "<table border=\"1\" class=\"dataframe\">\n",
       "  <thead>\n",
       "    <tr style=\"text-align: right;\">\n",
       "      <th></th>\n",
       "      <th>0</th>\n",
       "      <th>1</th>\n",
       "    </tr>\n",
       "  </thead>\n",
       "  <tbody>\n",
       "    <tr>\n",
       "      <th>0</th>\n",
       "      <td>Bon+Iver</td>\n",
       "      <td>Bike down, down to the downtown Down to the lo...</td>\n",
       "    </tr>\n",
       "    <tr>\n",
       "      <th>1</th>\n",
       "      <td>Bon+Iver</td>\n",
       "      <td>I was lost but your fool Was a long visit wron...</td>\n",
       "    </tr>\n",
       "    <tr>\n",
       "      <th>2</th>\n",
       "      <td>Bon+Iver</td>\n",
       "      <td>I am my mother's only one It's enough  I wear ...</td>\n",
       "    </tr>\n",
       "    <tr>\n",
       "      <th>3</th>\n",
       "      <td>Bon+Iver</td>\n",
       "      <td>So abruptly Saw death on a sunny snow  For eve...</td>\n",
       "    </tr>\n",
       "    <tr>\n",
       "      <th>4</th>\n",
       "      <td>Bon+Iver</td>\n",
       "      <td>Sold my cold knot A heavy stone Sold my red ho...</td>\n",
       "    </tr>\n",
       "    <tr>\n",
       "      <th>5</th>\n",
       "      <td>Bon+Iver</td>\n",
       "      <td>This my excavation and to Day is Qumran Everyt...</td>\n",
       "    </tr>\n",
       "    <tr>\n",
       "      <th>6</th>\n",
       "      <td>Bon+Iver</td>\n",
       "      <td>Come on skinny love just last the year Pour a ...</td>\n",
       "    </tr>\n",
       "    <tr>\n",
       "      <th>7</th>\n",
       "      <td>Bon+Iver</td>\n",
       "      <td>Someday my pain, someday my pain Will mark you...</td>\n",
       "    </tr>\n",
       "    <tr>\n",
       "      <th>8</th>\n",
       "      <td>Bon+Iver</td>\n",
       "      <td>You ride in the park and you're peaking Piss p...</td>\n",
       "    </tr>\n",
       "    <tr>\n",
       "      <th>9</th>\n",
       "      <td>Bon+Iver</td>\n",
       "      <td>Summer comes To multiply To multiply!  Summer ...</td>\n",
       "    </tr>\n",
       "    <tr>\n",
       "      <th>10</th>\n",
       "      <td>Bon+Iver</td>\n",
       "      <td>When you're out Tell your lucky one  To know t...</td>\n",
       "    </tr>\n",
       "    <tr>\n",
       "      <th>11</th>\n",
       "      <td>Bon+Iver</td>\n",
       "      <td>Well, I met you at the blood bank We were look...</td>\n",
       "    </tr>\n",
       "    <tr>\n",
       "      <th>12</th>\n",
       "      <td>Bon+Iver</td>\n",
       "      <td>I'm up in the woods, I'm down on my mind I'm b...</td>\n",
       "    </tr>\n",
       "    <tr>\n",
       "      <th>13</th>\n",
       "      <td>Bon+Iver</td>\n",
       "      <td>An easy swing had it's time shouldered Slow be...</td>\n",
       "    </tr>\n",
       "    <tr>\n",
       "      <th>14</th>\n",
       "      <td>Saint+Vincent</td>\n",
       "      <td>Up with your turret Aren't we just terrified? ...</td>\n",
       "    </tr>\n",
       "    <tr>\n",
       "      <th>15</th>\n",
       "      <td>Bon+Iver</td>\n",
       "      <td>The wretched desert takes its form The jackal ...</td>\n",
       "    </tr>\n",
       "    <tr>\n",
       "      <th>16</th>\n",
       "      <td>Kanye+West</td>\n",
       "      <td>I'm up in the woods I'm down on my mind I'm bu...</td>\n",
       "    </tr>\n",
       "    <tr>\n",
       "      <th>17</th>\n",
       "      <td>Jay-Z</td>\n",
       "      <td>I shoot the lights out Hide 'til its bright ou...</td>\n",
       "    </tr>\n",
       "    <tr>\n",
       "      <th>18</th>\n",
       "      <td>Bon+Iver</td>\n",
       "      <td>Errant heat to the star And the rain let in Th...</td>\n",
       "    </tr>\n",
       "    <tr>\n",
       "      <th>19</th>\n",
       "      <td>Bon+Iver</td>\n",
       "      <td>Don't you cherish me to sleep Never keep your ...</td>\n",
       "    </tr>\n",
       "    <tr>\n",
       "      <th>20</th>\n",
       "      <td>Bon+Iver</td>\n",
       "      <td>(Fall in) (Fall out) (Fall along)  In the firs...</td>\n",
       "    </tr>\n",
       "    <tr>\n",
       "      <th>21</th>\n",
       "      <td>Bon+Iver</td>\n",
       "      <td>Someway, baby, it's part of me, apart from me ...</td>\n",
       "    </tr>\n",
       "    <tr>\n",
       "      <th>22</th>\n",
       "      <td>Bon+Iver</td>\n",
       "      <td>I was unafraid, I was a boy, I was a tender ag...</td>\n",
       "    </tr>\n",
       "    <tr>\n",
       "      <th>23</th>\n",
       "      <td>Bon+Iver</td>\n",
       "      <td>Armour let it through, borne the arboretic tru...</td>\n",
       "    </tr>\n",
       "    <tr>\n",
       "      <th>24</th>\n",
       "      <td>Bon+Iver</td>\n",
       "      <td>I’m tearing up, across your face Move dust thr...</td>\n",
       "    </tr>\n",
       "    <tr>\n",
       "      <th>25</th>\n",
       "      <td>Bon+Iver</td>\n",
       "      <td>For the love, I'd fallen on In the swampy Augu...</td>\n",
       "    </tr>\n",
       "    <tr>\n",
       "      <th>26</th>\n",
       "      <td>Bon+Iver</td>\n",
       "      <td>Climb Is all we know When thaw Is not below us...</td>\n",
       "    </tr>\n",
       "    <tr>\n",
       "      <th>27</th>\n",
       "      <td>Bon+Iver</td>\n",
       "      <td>Turn down the light Turn down the bed Turn dow...</td>\n",
       "    </tr>\n",
       "    <tr>\n",
       "      <th>28</th>\n",
       "      <td>Bon+Iver</td>\n",
       "      <td>All went in the fire, drowning in the sea. A r...</td>\n",
       "    </tr>\n",
       "    <tr>\n",
       "      <th>29</th>\n",
       "      <td>The+Flaming+Lips</td>\n",
       "      <td>You and me, we're both so fucked up You're fuc...</td>\n",
       "    </tr>\n",
       "    <tr>\n",
       "      <th>30</th>\n",
       "      <td>Bon+Iver</td>\n",
       "      <td>Ever since I heard the howlin' wind\\nI didn't ...</td>\n",
       "    </tr>\n",
       "    <tr>\n",
       "      <th>31</th>\n",
       "      <td>Bon+Iver</td>\n",
       "      <td>Well, I've been carved in fire Well, I've been...</td>\n",
       "    </tr>\n",
       "    <tr>\n",
       "      <th>32</th>\n",
       "      <td>Bon+Iver</td>\n",
       "      <td>Must've been forces That took me on them wild ...</td>\n",
       "    </tr>\n",
       "    <tr>\n",
       "      <th>33</th>\n",
       "      <td>Bon+Iver</td>\n",
       "      <td>Fe, fever rest Fever rest I cut you in Deafeni...</td>\n",
       "    </tr>\n",
       "    <tr>\n",
       "      <th>34</th>\n",
       "      <td>Bon+Iver</td>\n",
       "      <td>The math ahead The math behind it It's moon wa...</td>\n",
       "    </tr>\n",
       "    <tr>\n",
       "      <th>35</th>\n",
       "      <td>Bon+Iver</td>\n",
       "      <td>It might be over soon, soon, soon Where you go...</td>\n",
       "    </tr>\n",
       "    <tr>\n",
       "      <th>36</th>\n",
       "      <td>Bon+Iver</td>\n",
       "      <td>Sharing smoke In the stair up off the hot car ...</td>\n",
       "    </tr>\n",
       "    <tr>\n",
       "      <th>37</th>\n",
       "      <td>Bon+Iver</td>\n",
       "      <td>(When we leave this room it's gone)  Is the co...</td>\n",
       "    </tr>\n",
       "    <tr>\n",
       "      <th>38</th>\n",
       "      <td>Bon+Iver</td>\n",
       "      <td>Sixes hang in the door What kind of shit to ig...</td>\n",
       "    </tr>\n",
       "    <tr>\n",
       "      <th>39</th>\n",
       "      <td>Bon+Iver</td>\n",
       "      <td>Down along the creek I remember something Her,...</td>\n",
       "    </tr>\n",
       "    <tr>\n",
       "      <th>40</th>\n",
       "      <td>Bon+Iver</td>\n",
       "      <td>Philosophize your figure What I have and haven...</td>\n",
       "    </tr>\n",
       "    <tr>\n",
       "      <th>41</th>\n",
       "      <td>Bon+Iver</td>\n",
       "      <td>(Another shade, another shadow)  To burn it li...</td>\n",
       "    </tr>\n",
       "    <tr>\n",
       "      <th>42</th>\n",
       "      <td>Bon+Iver</td>\n",
       "      <td>Talk back, talk back with 'em With your full r...</td>\n",
       "    </tr>\n",
       "  </tbody>\n",
       "</table>\n",
       "</div>"
      ],
      "text/plain": [
       "                   0                                                  1\n",
       "0           Bon+Iver  Bike down, down to the downtown Down to the lo...\n",
       "1           Bon+Iver  I was lost but your fool Was a long visit wron...\n",
       "2           Bon+Iver  I am my mother's only one It's enough  I wear ...\n",
       "3           Bon+Iver  So abruptly Saw death on a sunny snow  For eve...\n",
       "4           Bon+Iver  Sold my cold knot A heavy stone Sold my red ho...\n",
       "5           Bon+Iver  This my excavation and to Day is Qumran Everyt...\n",
       "6           Bon+Iver  Come on skinny love just last the year Pour a ...\n",
       "7           Bon+Iver  Someday my pain, someday my pain Will mark you...\n",
       "8           Bon+Iver  You ride in the park and you're peaking Piss p...\n",
       "9           Bon+Iver  Summer comes To multiply To multiply!  Summer ...\n",
       "10          Bon+Iver  When you're out Tell your lucky one  To know t...\n",
       "11          Bon+Iver  Well, I met you at the blood bank We were look...\n",
       "12          Bon+Iver  I'm up in the woods, I'm down on my mind I'm b...\n",
       "13          Bon+Iver  An easy swing had it's time shouldered Slow be...\n",
       "14     Saint+Vincent  Up with your turret Aren't we just terrified? ...\n",
       "15          Bon+Iver  The wretched desert takes its form The jackal ...\n",
       "16        Kanye+West  I'm up in the woods I'm down on my mind I'm bu...\n",
       "17             Jay-Z  I shoot the lights out Hide 'til its bright ou...\n",
       "18          Bon+Iver  Errant heat to the star And the rain let in Th...\n",
       "19          Bon+Iver  Don't you cherish me to sleep Never keep your ...\n",
       "20          Bon+Iver  (Fall in) (Fall out) (Fall along)  In the firs...\n",
       "21          Bon+Iver  Someway, baby, it's part of me, apart from me ...\n",
       "22          Bon+Iver  I was unafraid, I was a boy, I was a tender ag...\n",
       "23          Bon+Iver  Armour let it through, borne the arboretic tru...\n",
       "24          Bon+Iver  I’m tearing up, across your face Move dust thr...\n",
       "25          Bon+Iver  For the love, I'd fallen on In the swampy Augu...\n",
       "26          Bon+Iver  Climb Is all we know When thaw Is not below us...\n",
       "27          Bon+Iver  Turn down the light Turn down the bed Turn dow...\n",
       "28          Bon+Iver  All went in the fire, drowning in the sea. A r...\n",
       "29  The+Flaming+Lips  You and me, we're both so fucked up You're fuc...\n",
       "30          Bon+Iver  Ever since I heard the howlin' wind\\nI didn't ...\n",
       "31          Bon+Iver  Well, I've been carved in fire Well, I've been...\n",
       "32          Bon+Iver  Must've been forces That took me on them wild ...\n",
       "33          Bon+Iver  Fe, fever rest Fever rest I cut you in Deafeni...\n",
       "34          Bon+Iver  The math ahead The math behind it It's moon wa...\n",
       "35          Bon+Iver  It might be over soon, soon, soon Where you go...\n",
       "36          Bon+Iver  Sharing smoke In the stair up off the hot car ...\n",
       "37          Bon+Iver  (When we leave this room it's gone)  Is the co...\n",
       "38          Bon+Iver  Sixes hang in the door What kind of shit to ig...\n",
       "39          Bon+Iver  Down along the creek I remember something Her,...\n",
       "40          Bon+Iver  Philosophize your figure What I have and haven...\n",
       "41          Bon+Iver  (Another shade, another shadow)  To burn it li...\n",
       "42          Bon+Iver  Talk back, talk back with 'em With your full r..."
      ]
     },
     "execution_count": 140,
     "metadata": {},
     "output_type": "execute_result"
    }
   ],
   "source": [
    "import pandas as pd\n",
    "df = pd.DataFrame(lyrics_list)\n",
    "df"
   ]
  },
  {
   "cell_type": "code",
   "execution_count": 141,
   "metadata": {},
   "outputs": [],
   "source": [
    "df.to_csv('bon_iver_songs.csv')"
   ]
  },
  {
   "cell_type": "code",
   "execution_count": 142,
   "metadata": {},
   "outputs": [],
   "source": [
    "df2 = pd.read_csv('bon_iver_songs.csv')"
   ]
  }
 ],
 "metadata": {
  "kernelspec": {
   "display_name": "Python 3",
   "language": "python",
   "name": "python3"
  },
  "language_info": {
   "codemirror_mode": {
    "name": "ipython",
    "version": 3
   },
   "file_extension": ".py",
   "mimetype": "text/x-python",
   "name": "python",
   "nbconvert_exporter": "python",
   "pygments_lexer": "ipython3",
   "version": "3.7.1"
  }
 },
 "nbformat": 4,
 "nbformat_minor": 2
}
